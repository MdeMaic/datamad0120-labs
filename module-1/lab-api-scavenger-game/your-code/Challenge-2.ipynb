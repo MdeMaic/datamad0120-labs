{
 "cells": [
  {
   "cell_type": "code",
   "execution_count": 1,
   "metadata": {},
   "outputs": [],
   "source": [
    "import json\n",
    "import requests\n",
    "from IPython.display import Image\n",
    "import os\n",
    "from dotenv import load_dotenv"
   ]
  },
  {
   "cell_type": "code",
   "execution_count": 2,
   "metadata": {},
   "outputs": [],
   "source": [
    "#COMANDO PARA OBTENER EL TOKEN del .env\n",
    "#Si está en diferentes carpetas, dentro del paréntesis crear la estructura \"../../\"\n",
    "load_dotenv()\n",
    "\n",
    "#Prueba\n",
    "token = os.getenv(\"gittok\")\n",
    "#print(\"...\",token[0:3])"
   ]
  },
  {
   "cell_type": "code",
   "execution_count": 6,
   "metadata": {},
   "outputs": [],
   "source": [
    "def requestGithub(endpoint):\n",
    "    token = os.getenv(\"gittok\")\n",
    "    if not token:\n",
    "        raise ValueError(\"You must set a GITHUB_APIKEY token\")\n",
    "    \n",
    "    baseUrl = \"https://api.github.com\"\n",
    "    url = baseUrl+endpoint\n",
    "    print(f\"Requesting data from {url}\")\n",
    "    headers = {\n",
    "        \"Authorization\": f\"token {token}\"\n",
    "    }\n",
    "    res = requests.get(url,headers=headers)\n",
    "    if res.status_code != 200:\n",
    "        print(res.text)\n",
    "        raise ValueError(\"Bad Response\")\n",
    "    return res.json()"
   ]
  },
  {
   "cell_type": "code",
   "execution_count": 25,
   "metadata": {},
   "outputs": [
    {
     "name": "stdout",
     "output_type": "stream",
     "text": [
      "Requesting data from https://api.github.com/repos/ironhack-datalabs/datamad0120/commits\n"
     ]
    }
   ],
   "source": [
    "commits = requestGithub(\"/repos/ironhack-datalabs/datamad0120/commits\")"
   ]
  },
  {
   "cell_type": "code",
   "execution_count": 26,
   "metadata": {},
   "outputs": [
    {
     "name": "stdout",
     "output_type": "stream",
     "text": [
      "['Clara', 'Felipe Ferrero', 'Bego Echavarren', 'Marc Pomar', 'Marc Pomar', 'Himanshu Aggarwal', 'Marc Pomar', 'Eldiias', 'Eldiias', 'Eldiias', 'kbartonhenry', 'kbartonhenry', 'kbartonhenry', 'kbartonhenry', 'kbartonhenry', 'kbartonhenry', 'kbartonhenry', 'Zhou Zhou', 'Zhou Zhou', 'Zhou Zhou', 'Zhou Zhou', 'Zhou Zhou', 'Zhou Zhou', 'Zhou Zhou', 'Zhou Zhou', 'Zhou Zhou', 'Zhou Zhou', 'Zhou Zhou', 'himanshu aggarwal', 'himanshu aggarwal']\n"
     ]
    },
    {
     "data": {
      "text/plain": [
       "30"
      ]
     },
     "execution_count": 26,
     "metadata": {},
     "output_type": "execute_result"
    }
   ],
   "source": [
    "lista_author = [cm[\"commit\"][\"author\"][\"name\"] for cm in commits]\n",
    "print(lista_author)\n",
    "len(lista_author)"
   ]
  },
  {
   "cell_type": "code",
   "execution_count": 49,
   "metadata": {},
   "outputs": [
    {
     "name": "stdout",
     "output_type": "stream",
     "text": [
      "Requesting data from https://api.github.com/repos/ironhack-datalabs/datamad0120/commits?since='2020-01-20T17:50:00Z'\n"
     ]
    }
   ],
   "source": [
    "#Hacemos el filtro aplicando la fecha \n",
    "commit_date = requestGithub(\"/repos/ironhack-datalabs/datamad0120/commits?since='2020-01-20T17:50:00Z'\")"
   ]
  },
  {
   "cell_type": "code",
   "execution_count": 48,
   "metadata": {},
   "outputs": [
    {
     "name": "stdout",
     "output_type": "stream",
     "text": [
      "['Clara'] ['2020-01-23T13:58:34Z']\n"
     ]
    }
   ],
   "source": [
    "lista_author_name = [cm[\"commit\"][\"author\"][\"name\"] for cm in commit_date]\n",
    "lista_author_date = [cm[\"commit\"][\"author\"][\"date\"] for cm in commit_date]\n",
    "print(lista_author_name, lista_author_date)"
   ]
  },
  {
   "cell_type": "code",
   "execution_count": 43,
   "metadata": {},
   "outputs": [
    {
     "data": {
      "text/plain": [
       "1"
      ]
     },
     "execution_count": 43,
     "metadata": {},
     "output_type": "execute_result"
    }
   ],
   "source": [
    "len(lista_author_date)"
   ]
  }
 ],
 "metadata": {
  "kernelspec": {
   "display_name": "Python 3",
   "language": "python",
   "name": "python3"
  },
  "language_info": {
   "codemirror_mode": {
    "name": "ipython",
    "version": 3
   },
   "file_extension": ".py",
   "mimetype": "text/x-python",
   "name": "python",
   "nbconvert_exporter": "python",
   "pygments_lexer": "ipython3",
   "version": "3.7.6"
  }
 },
 "nbformat": 4,
 "nbformat_minor": 2
}
