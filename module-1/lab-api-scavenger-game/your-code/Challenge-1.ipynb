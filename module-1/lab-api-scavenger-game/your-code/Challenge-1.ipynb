{
 "cells": [
  {
   "cell_type": "code",
   "execution_count": 13,
   "metadata": {},
   "outputs": [],
   "source": [
    "import json\n",
    "import requests\n",
    "from IPython.display import Image\n",
    "import os\n",
    "from dotenv import load_dotenv"
   ]
  },
  {
   "cell_type": "code",
   "execution_count": 22,
   "metadata": {},
   "outputs": [],
   "source": [
    "#COMANDO PARA OBTENER EL TOKEN del .env\n",
    "#Si está en diferentes carpetas, dentro del paréntesis crear la estructura \"../../\"\n",
    "load_dotenv()\n",
    "\n",
    "#Prueba\n",
    "token = os.getenv(\"gittok\")\n",
    "#print(\"...\",token[0:3])"
   ]
  },
  {
   "cell_type": "code",
   "execution_count": 15,
   "metadata": {},
   "outputs": [],
   "source": [
    "def requestGithub(endpoint):\n",
    "    token = os.getenv(\"gittok\")\n",
    "    if not token:\n",
    "        raise ValueError(\"You must set a GITHUB_APIKEY token\")\n",
    "    \n",
    "    baseUrl = \"https://api.github.com\"\n",
    "    url = baseUrl+endpoint\n",
    "    print(f\"Requesting data from {url}\")\n",
    "    headers = {\n",
    "        \"Authorization\": f\"token {token}\"\n",
    "    }\n",
    "    res = requests.get(url,headers=headers)\n",
    "    if res.status_code != 200:\n",
    "        print(res.text)\n",
    "        raise ValueError(\"Bad Response\")\n",
    "    return res.json()"
   ]
  },
  {
   "cell_type": "code",
   "execution_count": 23,
   "metadata": {},
   "outputs": [
    {
     "name": "stdout",
     "output_type": "stream",
     "text": [
      "Requesting data from https://api.github.com/repos/ironhack-datalabs/datamad0120/forks\n"
     ]
    }
   ],
   "source": [
    "forks = requestGithub(\"/repos/ironhack-datalabs/datamad0120/forks\")"
   ]
  },
  {
   "cell_type": "code",
   "execution_count": 32,
   "metadata": {},
   "outputs": [
    {
     "name": "stdout",
     "output_type": "stream",
     "text": [
      "['Nereland', 'lusuelves', 'Clapiniella', 'Teo-Lopez', 'Alejorro', 'lauravillalba', 'fabianlojo', 'vagabundoo', 'Shurlena', 'sowe01', 'Bersuan', 'SergioGomis', 'guille-ds', 'IvanDGregor', 'E2811', 'Cristina6692', 'ireneisdoomed', 'x22a', 'eduman13', 'hector-lovi', 'ricardoafsp', 'fernandobreogan', 'meryreddoor', 'jmpchamizo', 'agalvezcorell', 'guillermomar', 'patricrp', 'MdeMaic']\n"
     ]
    }
   ],
   "source": [
    "lista_users = [fk[\"owner\"][\"login\"] for fk in forks]\n",
    "print(lista_users)"
   ]
  },
  {
   "cell_type": "code",
   "execution_count": 36,
   "metadata": {},
   "outputs": [
    {
     "name": "stdout",
     "output_type": "stream",
     "text": [
      "['https://api.github.com/repos/Nereland/datamad0120/languages', 'https://api.github.com/repos/lusuelves/datamad0120/languages', 'https://api.github.com/repos/Clapiniella/datamad0120/languages', 'https://api.github.com/repos/Teo-Lopez/datamad0120/languages', 'https://api.github.com/repos/Alejorro/datamad0120/languages', 'https://api.github.com/repos/lauravillalba/datamad0120/languages', 'https://api.github.com/repos/fabianlojo/datamad0120/languages', 'https://api.github.com/repos/vagabundoo/datamad0120-1/languages', 'https://api.github.com/repos/Shurlena/datamad0120/languages', 'https://api.github.com/repos/sowe01/datamad0120/languages', 'https://api.github.com/repos/Bersuan/datamad0120-1/languages', 'https://api.github.com/repos/SergioGomis/datamad0120/languages', 'https://api.github.com/repos/guille-ds/datamad0120-1/languages', 'https://api.github.com/repos/IvanDGregor/datamad0120/languages', 'https://api.github.com/repos/E2811/datamad0120/languages', 'https://api.github.com/repos/Cristina6692/datamad0120/languages', 'https://api.github.com/repos/ireneisdoomed/datamad0120/languages', 'https://api.github.com/repos/x22a/datamad0120/languages', 'https://api.github.com/repos/eduman13/datamad0120/languages', 'https://api.github.com/repos/hector-lovi/datamad0120/languages', 'https://api.github.com/repos/ricardoafsp/datamad0120-1/languages', 'https://api.github.com/repos/fernandobreogan/datamad0120/languages', 'https://api.github.com/repos/meryreddoor/datamad0120/languages', 'https://api.github.com/repos/jmpchamizo/datamad0120/languages', 'https://api.github.com/repos/agalvezcorell/datamad0120/languages', 'https://api.github.com/repos/guillermomar/datamad0120/languages', 'https://api.github.com/repos/patricrp/datamad0120/languages', 'https://api.github.com/repos/MdeMaic/datamad0120-labs/languages']\n"
     ]
    }
   ],
   "source": [
    "lista_language = [fk[\"languages_url\"] for fk in forks]\n",
    "print(lista_language)"
   ]
  },
  {
   "cell_type": "code",
   "execution_count": 63,
   "metadata": {},
   "outputs": [],
   "source": [
    "def requestLanguage(lista_lang):\n",
    "    token = os.getenv(\"gittok\")\n",
    "    lst=[]\n",
    "    if not token:\n",
    "        raise ValueError(\"You must set a GITHUB_APIKEY token\")\n",
    "    headers = {\n",
    "            \"Authorization\": f\"token {token}\"\n",
    "    }\n",
    "    for languages in lista_lang:\n",
    "        res = requests.get(languages,headers=headers)\n",
    "        if res.status_code != 200:\n",
    "            print(res.text)\n",
    "            raise ValueError(\"Bad Response\")\n",
    "        opt = res.json().keys()\n",
    "        for el in opt:\n",
    "            if el not in lst:\n",
    "                lst.append(el)\n",
    "    return lst"
   ]
  },
  {
   "cell_type": "code",
   "execution_count": 66,
   "metadata": {},
   "outputs": [
    {
     "name": "stdout",
     "output_type": "stream",
     "text": [
      "['Jupyter Notebook', 'HTML', 'Python']\n"
     ]
    }
   ],
   "source": [
    "lst = requestLanguage(lista_language)\n",
    "print(lst)"
   ]
  }
 ],
 "metadata": {
  "kernelspec": {
   "display_name": "Python 3",
   "language": "python",
   "name": "python3"
  },
  "language_info": {
   "codemirror_mode": {
    "name": "ipython",
    "version": 3
   },
   "file_extension": ".py",
   "mimetype": "text/x-python",
   "name": "python",
   "nbconvert_exporter": "python",
   "pygments_lexer": "ipython3",
   "version": "3.7.6"
  }
 },
 "nbformat": 4,
 "nbformat_minor": 2
}
