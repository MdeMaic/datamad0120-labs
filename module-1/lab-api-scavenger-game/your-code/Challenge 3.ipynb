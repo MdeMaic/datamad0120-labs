{
 "cells": [
  {
   "cell_type": "code",
   "execution_count": 1,
   "metadata": {},
   "outputs": [],
   "source": [
    "import json\n",
    "import requests\n",
    "from IPython.display import Image\n",
    "import os\n",
    "from dotenv import load_dotenv\n",
    "import pandas as pd\n",
    "import base64\n",
    "import re"
   ]
  },
  {
   "cell_type": "code",
   "execution_count": 2,
   "metadata": {},
   "outputs": [],
   "source": [
    "#COMANDO PARA OBTENER EL TOKEN del .env\n",
    "#Si está en diferentes carpetas, dentro del paréntesis crear la estructura \"../../\"\n",
    "load_dotenv()\n",
    "\n",
    "#Prueba\n",
    "token = os.getenv(\"gittok\")\n",
    "#print(\"...\",token[0:3])"
   ]
  },
  {
   "cell_type": "code",
   "execution_count": 3,
   "metadata": {},
   "outputs": [],
   "source": [
    "def requestGithub(endpoint):\n",
    "    token = os.getenv(\"gittok\")\n",
    "    if not token:\n",
    "        raise ValueError(\"You must set a GITHUB_APIKEY token\")\n",
    "    \n",
    "    baseUrl = \"https://api.github.com\"\n",
    "    url = baseUrl+endpoint\n",
    "    print(f\"Requesting data from {url}\")\n",
    "    headers = {\n",
    "        \"Authorization\": f\"token {token}\"\n",
    "    }\n",
    "    res = requests.get(url,headers=headers)\n",
    "    if res.status_code != 200:\n",
    "        print(res.text)\n",
    "        raise ValueError(\"Bad Response\")\n",
    "    return res.json()"
   ]
  },
  {
   "cell_type": "code",
   "execution_count": 4,
   "metadata": {},
   "outputs": [
    {
     "name": "stdout",
     "output_type": "stream",
     "text": [
      "Requesting data from https://api.github.com/repos/ironhack-datalabs/scavenger/contents?extensions:scavengerhunts\n"
     ]
    }
   ],
   "source": [
    "initurl = \"/repos/ironhack-datalabs/scavenger/contents?extensions:scavengerhunts\"\n",
    "prueba = requestGithub(initurl)"
   ]
  },
  {
   "cell_type": "code",
   "execution_count": 5,
   "metadata": {},
   "outputs": [
    {
     "data": {
      "text/html": [
       "<div>\n",
       "<style scoped>\n",
       "    .dataframe tbody tr th:only-of-type {\n",
       "        vertical-align: middle;\n",
       "    }\n",
       "\n",
       "    .dataframe tbody tr th {\n",
       "        vertical-align: top;\n",
       "    }\n",
       "\n",
       "    .dataframe thead th {\n",
       "        text-align: right;\n",
       "    }\n",
       "</style>\n",
       "<table border=\"1\" class=\"dataframe\">\n",
       "  <thead>\n",
       "    <tr style=\"text-align: right;\">\n",
       "      <th></th>\n",
       "      <th>name</th>\n",
       "      <th>path</th>\n",
       "      <th>sha</th>\n",
       "      <th>size</th>\n",
       "      <th>url</th>\n",
       "      <th>html_url</th>\n",
       "      <th>git_url</th>\n",
       "      <th>download_url</th>\n",
       "      <th>type</th>\n",
       "      <th>_links</th>\n",
       "    </tr>\n",
       "  </thead>\n",
       "  <tbody>\n",
       "    <tr>\n",
       "      <th>0</th>\n",
       "      <td>.gitignore</td>\n",
       "      <td>.gitignore</td>\n",
       "      <td>e43b0f988953ae3a84b00331d0ccf5f7d51cb3cf</td>\n",
       "      <td>10</td>\n",
       "      <td>https://api.github.com/repos/ironhack-datalabs...</td>\n",
       "      <td>https://github.com/ironhack-datalabs/scavenger...</td>\n",
       "      <td>https://api.github.com/repos/ironhack-datalabs...</td>\n",
       "      <td>https://raw.githubusercontent.com/ironhack-dat...</td>\n",
       "      <td>file</td>\n",
       "      <td>{'self': 'https://api.github.com/repos/ironhac...</td>\n",
       "    </tr>\n",
       "    <tr>\n",
       "      <th>1</th>\n",
       "      <td>15024</td>\n",
       "      <td>15024</td>\n",
       "      <td>2945e51c87ad5da893c954afcf092f06343bbb7d</td>\n",
       "      <td>0</td>\n",
       "      <td>https://api.github.com/repos/ironhack-datalabs...</td>\n",
       "      <td>https://github.com/ironhack-datalabs/scavenger...</td>\n",
       "      <td>https://api.github.com/repos/ironhack-datalabs...</td>\n",
       "      <td>None</td>\n",
       "      <td>dir</td>\n",
       "      <td>{'self': 'https://api.github.com/repos/ironhac...</td>\n",
       "    </tr>\n",
       "    <tr>\n",
       "      <th>2</th>\n",
       "      <td>15534</td>\n",
       "      <td>15534</td>\n",
       "      <td>5af6f2a7287e4191f39e55693fc1e9c8918d1d3a</td>\n",
       "      <td>0</td>\n",
       "      <td>https://api.github.com/repos/ironhack-datalabs...</td>\n",
       "      <td>https://github.com/ironhack-datalabs/scavenger...</td>\n",
       "      <td>https://api.github.com/repos/ironhack-datalabs...</td>\n",
       "      <td>None</td>\n",
       "      <td>dir</td>\n",
       "      <td>{'self': 'https://api.github.com/repos/ironhac...</td>\n",
       "    </tr>\n",
       "    <tr>\n",
       "      <th>3</th>\n",
       "      <td>17020</td>\n",
       "      <td>17020</td>\n",
       "      <td>9c49f920aa4d9433fa99a5824128f0e6b90ec5f2</td>\n",
       "      <td>0</td>\n",
       "      <td>https://api.github.com/repos/ironhack-datalabs...</td>\n",
       "      <td>https://github.com/ironhack-datalabs/scavenger...</td>\n",
       "      <td>https://api.github.com/repos/ironhack-datalabs...</td>\n",
       "      <td>None</td>\n",
       "      <td>dir</td>\n",
       "      <td>{'self': 'https://api.github.com/repos/ironhac...</td>\n",
       "    </tr>\n",
       "    <tr>\n",
       "      <th>4</th>\n",
       "      <td>30351</td>\n",
       "      <td>30351</td>\n",
       "      <td>c488d7f64088c852e22067d48fdc64ee3670f3ba</td>\n",
       "      <td>0</td>\n",
       "      <td>https://api.github.com/repos/ironhack-datalabs...</td>\n",
       "      <td>https://github.com/ironhack-datalabs/scavenger...</td>\n",
       "      <td>https://api.github.com/repos/ironhack-datalabs...</td>\n",
       "      <td>None</td>\n",
       "      <td>dir</td>\n",
       "      <td>{'self': 'https://api.github.com/repos/ironhac...</td>\n",
       "    </tr>\n",
       "  </tbody>\n",
       "</table>\n",
       "</div>"
      ],
      "text/plain": [
       "         name        path                                       sha  size  \\\n",
       "0  .gitignore  .gitignore  e43b0f988953ae3a84b00331d0ccf5f7d51cb3cf    10   \n",
       "1       15024       15024  2945e51c87ad5da893c954afcf092f06343bbb7d     0   \n",
       "2       15534       15534  5af6f2a7287e4191f39e55693fc1e9c8918d1d3a     0   \n",
       "3       17020       17020  9c49f920aa4d9433fa99a5824128f0e6b90ec5f2     0   \n",
       "4       30351       30351  c488d7f64088c852e22067d48fdc64ee3670f3ba     0   \n",
       "\n",
       "                                                 url  \\\n",
       "0  https://api.github.com/repos/ironhack-datalabs...   \n",
       "1  https://api.github.com/repos/ironhack-datalabs...   \n",
       "2  https://api.github.com/repos/ironhack-datalabs...   \n",
       "3  https://api.github.com/repos/ironhack-datalabs...   \n",
       "4  https://api.github.com/repos/ironhack-datalabs...   \n",
       "\n",
       "                                            html_url  \\\n",
       "0  https://github.com/ironhack-datalabs/scavenger...   \n",
       "1  https://github.com/ironhack-datalabs/scavenger...   \n",
       "2  https://github.com/ironhack-datalabs/scavenger...   \n",
       "3  https://github.com/ironhack-datalabs/scavenger...   \n",
       "4  https://github.com/ironhack-datalabs/scavenger...   \n",
       "\n",
       "                                             git_url  \\\n",
       "0  https://api.github.com/repos/ironhack-datalabs...   \n",
       "1  https://api.github.com/repos/ironhack-datalabs...   \n",
       "2  https://api.github.com/repos/ironhack-datalabs...   \n",
       "3  https://api.github.com/repos/ironhack-datalabs...   \n",
       "4  https://api.github.com/repos/ironhack-datalabs...   \n",
       "\n",
       "                                        download_url  type  \\\n",
       "0  https://raw.githubusercontent.com/ironhack-dat...  file   \n",
       "1                                               None   dir   \n",
       "2                                               None   dir   \n",
       "3                                               None   dir   \n",
       "4                                               None   dir   \n",
       "\n",
       "                                              _links  \n",
       "0  {'self': 'https://api.github.com/repos/ironhac...  \n",
       "1  {'self': 'https://api.github.com/repos/ironhac...  \n",
       "2  {'self': 'https://api.github.com/repos/ironhac...  \n",
       "3  {'self': 'https://api.github.com/repos/ironhac...  \n",
       "4  {'self': 'https://api.github.com/repos/ironhac...  "
      ]
     },
     "execution_count": 5,
     "metadata": {},
     "output_type": "execute_result"
    }
   ],
   "source": [
    "df = pd.DataFrame(prueba)\n",
    "df.head()"
   ]
  },
  {
   "cell_type": "code",
   "execution_count": 6,
   "metadata": {},
   "outputs": [
    {
     "name": "stdout",
     "output_type": "stream",
     "text": [
      "['https://api.github.com/repos/ironhack-datalabs/scavenger/git/trees/2945e51c87ad5da893c954afcf092f06343bbb7d', 'https://api.github.com/repos/ironhack-datalabs/scavenger/git/trees/5af6f2a7287e4191f39e55693fc1e9c8918d1d3a', 'https://api.github.com/repos/ironhack-datalabs/scavenger/git/trees/9c49f920aa4d9433fa99a5824128f0e6b90ec5f2', 'https://api.github.com/repos/ironhack-datalabs/scavenger/git/trees/c488d7f64088c852e22067d48fdc64ee3670f3ba', 'https://api.github.com/repos/ironhack-datalabs/scavenger/git/trees/30193d9cf62b07bcbb6366513ff03596861f2d29', 'https://api.github.com/repos/ironhack-datalabs/scavenger/git/trees/22fc3d5c2db80822c351edb2248f3491c8ebda86', 'https://api.github.com/repos/ironhack-datalabs/scavenger/git/trees/6a4a88cd9084110c8646c3cfd84dfe96b300a4a7', 'https://api.github.com/repos/ironhack-datalabs/scavenger/git/trees/c7001604cdadc2fe7b82e0f6996690718cac6941', 'https://api.github.com/repos/ironhack-datalabs/scavenger/git/trees/f84882ad7560fd2b8c6a0867bc707ce9009ef288', 'https://api.github.com/repos/ironhack-datalabs/scavenger/git/trees/46bc658c09589d9023246b00e848ce97d30d4989', 'https://api.github.com/repos/ironhack-datalabs/scavenger/git/trees/e47a7a35a19f80694587330c57d94e28d3b4c054', 'https://api.github.com/repos/ironhack-datalabs/scavenger/git/trees/636fa555a2ee752759144a268fd860feb2b6fd2d', 'https://api.github.com/repos/ironhack-datalabs/scavenger/git/trees/a00a8148a88287508a867616d7063786d3d5d4ff', 'https://api.github.com/repos/ironhack-datalabs/scavenger/git/trees/28d70fba98bfacfaa5e5544b2eff6b61c9e8f57b', 'https://api.github.com/repos/ironhack-datalabs/scavenger/git/trees/88b159d6f73378e6968bb35ccfd8e3ad0cc462d2', 'https://api.github.com/repos/ironhack-datalabs/scavenger/git/trees/0230fa6fa1ccf49ab976fbbfc9eb838094779785', 'https://api.github.com/repos/ironhack-datalabs/scavenger/git/trees/ed2f90be6835e7e74c283aedba1942b788754d32', 'https://api.github.com/repos/ironhack-datalabs/scavenger/git/trees/a5d9391003b67cecf3c336398ec38cfa75a689b7', 'https://api.github.com/repos/ironhack-datalabs/scavenger/git/trees/d1a654c5811f52ec8a101652b0a04367644eab99', 'https://api.github.com/repos/ironhack-datalabs/scavenger/git/trees/f294d2a0e55a4bab12625a7f709b44450a5e4648', 'https://api.github.com/repos/ironhack-datalabs/scavenger/git/trees/5f3ef5f14cf72bbe03a24b69777ba02f19a3adb5', 'https://api.github.com/repos/ironhack-datalabs/scavenger/git/trees/79c94a4032a927b2af52cc6da4ce27eb2abbf55e', 'https://api.github.com/repos/ironhack-datalabs/scavenger/git/trees/0ad19115f0b56c3cd10cb7e077140c201b527301', 'https://api.github.com/repos/ironhack-datalabs/scavenger/git/trees/c369c43c17ec44cc3e66dd27f8e557f9d15d40f4', 'https://api.github.com/repos/ironhack-datalabs/scavenger/git/trees/cdc23915e0a5179127458431986ba3750840a924'] 25\n"
     ]
    }
   ],
   "source": [
    "#Vamos a por el campo git_url\n",
    "lista_urls = [e[\"git_url\"] for e in prueba][1:]\n",
    "print(lista_urls,len(lista_urls))"
   ]
  },
  {
   "cell_type": "code",
   "execution_count": 7,
   "metadata": {},
   "outputs": [
    {
     "name": "stdout",
     "output_type": "stream",
     "text": [
      "Requesting data from https://api.github.com/repos/ironhack-datalabs/scavenger/git/trees/2945e51c87ad5da893c954afcf092f06343bbb7d\n"
     ]
    },
    {
     "data": {
      "text/plain": [
       "{'sha': '2945e51c87ad5da893c954afcf092f06343bbb7d',\n",
       " 'url': 'https://api.github.com/repos/ironhack-datalabs/scavenger/git/trees/2945e51c87ad5da893c954afcf092f06343bbb7d',\n",
       " 'tree': [{'path': '.0006.scavengerhunt',\n",
       "   'mode': '100644',\n",
       "   'type': 'blob',\n",
       "   'sha': '1c9064284a24b3486015eafdb391b141c27ada2b',\n",
       "   'size': 3,\n",
       "   'url': 'https://api.github.com/repos/ironhack-datalabs/scavenger/git/blobs/1c9064284a24b3486015eafdb391b141c27ada2b'},\n",
       "  {'path': '40',\n",
       "   'mode': '100644',\n",
       "   'type': 'blob',\n",
       "   'sha': 'e69de29bb2d1d6434b8b29ae775ad8c2e48c5391',\n",
       "   'size': 0,\n",
       "   'url': 'https://api.github.com/repos/ironhack-datalabs/scavenger/git/blobs/e69de29bb2d1d6434b8b29ae775ad8c2e48c5391'},\n",
       "  {'path': '74',\n",
       "   'mode': '100644',\n",
       "   'type': 'blob',\n",
       "   'sha': 'e69de29bb2d1d6434b8b29ae775ad8c2e48c5391',\n",
       "   'size': 0,\n",
       "   'url': 'https://api.github.com/repos/ironhack-datalabs/scavenger/git/blobs/e69de29bb2d1d6434b8b29ae775ad8c2e48c5391'},\n",
       "  {'path': '99',\n",
       "   'mode': '100644',\n",
       "   'type': 'blob',\n",
       "   'sha': 'e69de29bb2d1d6434b8b29ae775ad8c2e48c5391',\n",
       "   'size': 0,\n",
       "   'url': 'https://api.github.com/repos/ironhack-datalabs/scavenger/git/blobs/e69de29bb2d1d6434b8b29ae775ad8c2e48c5391'}],\n",
       " 'truncated': False}"
      ]
     },
     "execution_count": 7,
     "metadata": {},
     "output_type": "execute_result"
    }
   ],
   "source": [
    "url = requestGithub(\"/repos/ironhack-datalabs/scavenger/git/trees/2945e51c87ad5da893c954afcf092f06343bbb7d\")\n",
    "url"
   ]
  },
  {
   "cell_type": "code",
   "execution_count": 8,
   "metadata": {},
   "outputs": [
    {
     "data": {
      "text/plain": [
       "['.0006.scavengerhunt', '40', '74', '99']"
      ]
     },
     "execution_count": 8,
     "metadata": {},
     "output_type": "execute_result"
    }
   ],
   "source": [
    "paths = [e[\"path\"] for e in url[\"tree\"]]\n",
    "paths"
   ]
  },
  {
   "cell_type": "code",
   "execution_count": 9,
   "metadata": {},
   "outputs": [
    {
     "name": "stdout",
     "output_type": "stream",
     "text": [
      ".0006.scavengerhunt\n",
      "https://api.github.com/repos/ironhack-datalabs/scavenger/git/blobs/1c9064284a24b3486015eafdb391b141c27ada2b\n"
     ]
    }
   ],
   "source": [
    "for indice,content in enumerate(paths):\n",
    "    if re.findall(r\"\\wcavengerhunt\",content):\n",
    "        print(content)\n",
    "        print(url[\"tree\"][indice][\"url\"])"
   ]
  },
  {
   "cell_type": "code",
   "execution_count": 10,
   "metadata": {},
   "outputs": [
    {
     "name": "stdout",
     "output_type": "stream",
     "text": [
      "Requesting data from https://api.github.com/repos/ironhack-datalabs/scavenger/git/blobs/1c9064284a24b3486015eafdb391b141c27ada2b\n"
     ]
    }
   ],
   "source": [
    "url_path = requestGithub(\"/repos/ironhack-datalabs/scavenger/git/blobs/1c9064284a24b3486015eafdb391b141c27ada2b\")\n",
    "a= url_path[\"content\"]"
   ]
  },
  {
   "cell_type": "code",
   "execution_count": 11,
   "metadata": {},
   "outputs": [
    {
     "name": "stdout",
     "output_type": "stream",
     "text": [
      "b'of\\n'\n"
     ]
    }
   ],
   "source": [
    "b = base64.b64decode(a)\n",
    "print(b)"
   ]
  },
  {
   "cell_type": "code",
   "execution_count": 12,
   "metadata": {},
   "outputs": [],
   "source": [
    "b = b.decode('utf-8')"
   ]
  },
  {
   "cell_type": "code",
   "execution_count": 13,
   "metadata": {},
   "outputs": [
    {
     "data": {
      "text/plain": [
       "'of'"
      ]
     },
     "execution_count": 13,
     "metadata": {},
     "output_type": "execute_result"
    }
   ],
   "source": [
    "b[:-1]"
   ]
  },
  {
   "cell_type": "markdown",
   "metadata": {},
   "source": [
    "# REFACTORIZANDO Y GENERANDO FUNCIONES"
   ]
  },
  {
   "cell_type": "code",
   "execution_count": 17,
   "metadata": {},
   "outputs": [],
   "source": [
    "#Función para obtener response de API con URL completa\n",
    "def requestGithub_url(url):\n",
    "    token = os.getenv(\"gittok\")\n",
    "    if not token:\n",
    "        raise ValueError(\"You must set a GITHUB_APIKEY token\")\n",
    "    headers = {\n",
    "        \"Authorization\": f\"token {token}\"\n",
    "    }\n",
    "    res = requests.get(url,headers=headers)\n",
    "    if res.status_code != 200:\n",
    "        print(res.text)\n",
    "        raise ValueError(\"Bad Response\")\n",
    "    return res.json()\n",
    "\n",
    "#Le paso la lista de Apis generado en \"list_urls\"\n",
    "def getCode(list_apis):\n",
    "    lst = []\n",
    "    for elem in list_apis:\n",
    "        url = requestGithub_url(elem)\n",
    "        \n",
    "        #Genera otra lista de nombres(paths) que se iteran con enumerate \n",
    "        #para obtener los que tienen el nombre especial\n",
    "        paths = [e[\"path\"] for e in url[\"tree\"]]\n",
    "        \n",
    "        for indice,content in enumerate(paths):\n",
    "            \n",
    "            #REGEX de lo que se está buscando\n",
    "            if re.findall(r\"\\wcavengerhunt\",content):\n",
    "                \n",
    "                #Imprime el valor URL en el índice que está gracias al if.\n",
    "                valor = url[\"tree\"][indice][\"url\"]\n",
    "                \n",
    "                #Vuelve a realizar un request del valor obtenido y se queda con la información de \"content\"\n",
    "                url_path = requestGithub_url(valor)[\"content\"]\n",
    "                \n",
    "                #Se decodifica la información\n",
    "                code = base64.b64decode(url_path)\n",
    "                deco = code.decode('utf-8')[:-1]\n",
    "                \n",
    "                #Se pasa una lista con el nombre del archivo y la info de cada archivo. \n",
    "                lst.append([content,deco])\n",
    "    \n",
    "    #Se ordena la lista en base al nombre del archivo.\n",
    "    lst.sort(key=lambda x: x[0])\n",
    "    \n",
    "    return lst"
   ]
  },
  {
   "cell_type": "code",
   "execution_count": 18,
   "metadata": {},
   "outputs": [
    {
     "data": {
      "text/plain": [
       "[['.0001.scavengerhunt', 'In'],\n",
       " ['.0002.scavengerhunt', 'data'],\n",
       " ['.0003.scavengerhunt', 'science,'],\n",
       " ['.0004.scavengerhunt', '80'],\n",
       " ['.0005.scavengerhunt', 'percent'],\n",
       " ['.0006.scavengerhunt', 'of'],\n",
       " ['.0007.scavengerhunt', 'time'],\n",
       " ['.0008.scavengerhunt', 'spent'],\n",
       " ['.0009.scavengerhunt', 'is'],\n",
       " ['.0010.scavengerhunt', 'preparing'],\n",
       " ['.0011.scavengerhunt', 'data,'],\n",
       " ['.0012.scavengerhunt', '20'],\n",
       " ['.0013.scavengerhunt', 'percent'],\n",
       " ['.0014.scavengerhunt', 'of'],\n",
       " ['.0015.scavengerhunt', 'time'],\n",
       " ['.0016.scavengerhunt', 'is'],\n",
       " ['.0017.scavengerhunt', 'spent'],\n",
       " ['.0018.scavengerhunt', 'complaining'],\n",
       " ['.0019.scavengerhunt', 'about'],\n",
       " ['.0020.scavengerhunt', 'the'],\n",
       " ['.0021.scavengerhunt', 'need'],\n",
       " ['.0022.scavengerhunt', 'to'],\n",
       " ['.0023.scavengerhunt', 'prepare'],\n",
       " ['.0024.scavengerhunt', 'data.']]"
      ]
     },
     "execution_count": 18,
     "metadata": {},
     "output_type": "execute_result"
    }
   ],
   "source": [
    "getCode(lista_urls)"
   ]
  },
  {
   "cell_type": "code",
   "execution_count": 19,
   "metadata": {},
   "outputs": [
    {
     "name": "stdout",
     "output_type": "stream",
     "text": [
      "SI\n"
     ]
    }
   ],
   "source": [
    "if \".0012.scavengerhunt\" > '.0002.scavengerhunt':\n",
    "    print(\"SI\")\n",
    "else:\n",
    "    print(\"NO\")"
   ]
  }
 ],
 "metadata": {
  "kernelspec": {
   "display_name": "Python 3",
   "language": "python",
   "name": "python3"
  },
  "language_info": {
   "codemirror_mode": {
    "name": "ipython",
    "version": 3
   },
   "file_extension": ".py",
   "mimetype": "text/x-python",
   "name": "python",
   "nbconvert_exporter": "python",
   "pygments_lexer": "ipython3",
   "version": "3.7.6"
  }
 },
 "nbformat": 4,
 "nbformat_minor": 2
}
