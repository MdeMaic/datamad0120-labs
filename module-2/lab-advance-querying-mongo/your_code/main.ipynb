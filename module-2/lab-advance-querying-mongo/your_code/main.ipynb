{
 "cells": [
  {
   "cell_type": "markdown",
   "metadata": {},
   "source": [
    "# Advanced Querying Mongo"
   ]
  },
  {
   "cell_type": "markdown",
   "metadata": {},
   "source": [
    "Importing libraries and setting up connection"
   ]
  },
  {
   "cell_type": "code",
   "execution_count": 108,
   "metadata": {},
   "outputs": [],
   "source": [
    "from pymongo import MongoClient\n",
    "import re\n",
    "from pandas.io.json import json_normalize\n",
    "import pandas as pd"
   ]
  },
  {
   "cell_type": "code",
   "execution_count": 2,
   "metadata": {},
   "outputs": [
    {
     "name": "stdout",
     "output_type": "stream",
     "text": [
      "companies\n"
     ]
    },
    {
     "data": {
      "text/plain": [
       "[{'name': 'companies',\n",
       "  'type': 'collection',\n",
       "  'options': {},\n",
       "  'info': {'readOnly': False,\n",
       "   'uuid': UUID('7294c8df-8dae-40a1-b347-d171744188f7')},\n",
       "  'idIndex': {'v': 2,\n",
       "   'key': {'_id': 1},\n",
       "   'name': '_id_',\n",
       "   'ns': 'companies.companies'}}]"
      ]
     },
     "execution_count": 2,
     "metadata": {},
     "output_type": "execute_result"
    }
   ],
   "source": [
    "client = MongoClient(\"mongodb://localhost/companies\")\n",
    "db = client.get_database()\n",
    "\n",
    "for c in db.list_collections():\n",
    "    print(c[\"name\"])\n",
    "    \n",
    "list(db.list_collections())"
   ]
  },
  {
   "cell_type": "markdown",
   "metadata": {},
   "source": [
    "### 1. All the companies whose name match 'Babelgum'. Retrieve only their `name` field."
   ]
  },
  {
   "cell_type": "code",
   "execution_count": 3,
   "metadata": {},
   "outputs": [
    {
     "data": {
      "text/plain": [
       "[{'_id': ObjectId('52cdef7c4bab8bd675297da0'), 'name': 'Babelgum'}]"
      ]
     },
     "execution_count": 3,
     "metadata": {},
     "output_type": "execute_result"
    }
   ],
   "source": [
    "q1 = {'name':'Babelgum'}\n",
    "list(db[\"companies\"].find(q1,projection={'name':True}))"
   ]
  },
  {
   "cell_type": "markdown",
   "metadata": {},
   "source": [
    "### 2. All the companies that have more than 5000 employees. Limit the search to 20 companies and sort them by **number of employees**."
   ]
  },
  {
   "cell_type": "code",
   "execution_count": 4,
   "metadata": {},
   "outputs": [
    {
     "data": {
      "text/plain": [
       "[{'_id': ObjectId('52cdef7d4bab8bd67529941a'),\n",
       "  'name': 'Siemens',\n",
       "  'number_of_employees': 405000},\n",
       " {'_id': ObjectId('52cdef7c4bab8bd67529856a'),\n",
       "  'name': 'IBM',\n",
       "  'number_of_employees': 388000},\n",
       " {'_id': ObjectId('52cdef7d4bab8bd675299d33'),\n",
       "  'name': 'Toyota',\n",
       "  'number_of_employees': 320000},\n",
       " {'_id': ObjectId('52cdef7c4bab8bd675297e89'),\n",
       "  'name': 'PayPal',\n",
       "  'number_of_employees': 300000},\n",
       " {'_id': ObjectId('52cdef7e4bab8bd67529b0fe'),\n",
       "  'name': 'Nippon Telegraph and Telephone Corporation',\n",
       "  'number_of_employees': 227000},\n",
       " {'_id': ObjectId('52cdef7d4bab8bd675298aa4'),\n",
       "  'name': 'Samsung Electronics',\n",
       "  'number_of_employees': 221726},\n",
       " {'_id': ObjectId('52cdef7d4bab8bd675298b99'),\n",
       "  'name': 'Accenture',\n",
       "  'number_of_employees': 205000},\n",
       " {'_id': ObjectId('52cdef7e4bab8bd67529a657'),\n",
       "  'name': 'Tata Consultancy Services',\n",
       "  'number_of_employees': 200300},\n",
       " {'_id': ObjectId('52cdef7e4bab8bd67529aa51'),\n",
       "  'name': 'Flextronics International',\n",
       "  'number_of_employees': 200000},\n",
       " {'_id': ObjectId('52cdef7d4bab8bd675299156'),\n",
       "  'name': 'Safeway',\n",
       "  'number_of_employees': 186000},\n",
       " {'_id': ObjectId('52cdef7c4bab8bd675297e6f'),\n",
       "  'name': 'Sony',\n",
       "  'number_of_employees': 180500},\n",
       " {'_id': ObjectId('52cdef7c4bab8bd675298517'),\n",
       "  'name': 'LG',\n",
       "  'number_of_employees': 177000},\n",
       " {'_id': ObjectId('52cdef7d4bab8bd675299d31'),\n",
       "  'name': 'Ford',\n",
       "  'number_of_employees': 171000},\n",
       " {'_id': ObjectId('52cdef7d4bab8bd675298b28'),\n",
       "  'name': 'Boeing',\n",
       "  'number_of_employees': 160000},\n",
       " {'_id': ObjectId('52cdef7e4bab8bd67529bb5c'),\n",
       "  'name': 'Digital Equipment Corporation',\n",
       "  'number_of_employees': 140000},\n",
       " {'_id': ObjectId('52cdef7c4bab8bd675297fc2'),\n",
       "  'name': 'Nokia',\n",
       "  'number_of_employees': 125000},\n",
       " {'_id': ObjectId('52cdef7d4bab8bd675299839'),\n",
       "  'name': 'MItsubishi Electric',\n",
       "  'number_of_employees': 107000},\n",
       " {'_id': ObjectId('52cdef7d4bab8bd675299bc3'),\n",
       "  'name': 'MItsubishi Electric',\n",
       "  'number_of_employees': 107000},\n",
       " {'_id': ObjectId('52cdef7c4bab8bd6752987ad'),\n",
       "  'name': 'Comcast',\n",
       "  'number_of_employees': 100000},\n",
       " {'_id': ObjectId('52cdef7d4bab8bd675298d67'),\n",
       "  'name': 'Bertelsmann',\n",
       "  'number_of_employees': 100000}]"
      ]
     },
     "execution_count": 4,
     "metadata": {},
     "output_type": "execute_result"
    }
   ],
   "source": [
    "# Your Code\n",
    "q2 = {'number_of_employees':{'$gte':5000}}\n",
    "#Para hacer sort con 1 sólo valor, se utiliza la tupla con el -1 para hacerlo descendente.\n",
    "top_emp = db.companies.find(q2,projection={'name','number_of_employees'}).sort('number_of_employees', -1).limit(20)\n",
    "list(top_emp)"
   ]
  },
  {
   "cell_type": "markdown",
   "metadata": {},
   "source": [
    "### 3. All the companies founded between 2000 and 2005, both years included. Retrieve only the `name` and `founded_year` fields."
   ]
  },
  {
   "cell_type": "code",
   "execution_count": 5,
   "metadata": {},
   "outputs": [
    {
     "data": {
      "text/plain": [
       "[{'_id': ObjectId('52cdef7c4bab8bd675297dd5'),\n",
       "  'name': 'AllofMP3',\n",
       "  'founded_year': 2000},\n",
       " {'_id': ObjectId('52cdef7c4bab8bd675297dd9'),\n",
       "  'name': 'Steorn',\n",
       "  'founded_year': 2000},\n",
       " {'_id': ObjectId('52cdef7c4bab8bd675297ddb'),\n",
       "  'name': 'MeeVee',\n",
       "  'founded_year': 2000},\n",
       " {'_id': ObjectId('52cdef7c4bab8bd675297e38'),\n",
       "  'name': 'PhotoBox',\n",
       "  'founded_year': 2000},\n",
       " {'_id': ObjectId('52cdef7c4bab8bd675297e73'),\n",
       "  'name': 'Boonex',\n",
       "  'founded_year': 2000},\n",
       " {'_id': ObjectId('52cdef7c4bab8bd675297ea9'),\n",
       "  'name': 'Sulake',\n",
       "  'founded_year': 2000},\n",
       " {'_id': ObjectId('52cdef7c4bab8bd675297eb6'),\n",
       "  'name': 'SelectMinds',\n",
       "  'founded_year': 2000},\n",
       " {'_id': ObjectId('52cdef7c4bab8bd675297ef2'),\n",
       "  'name': 'ContextWeb',\n",
       "  'founded_year': 2000},\n",
       " {'_id': ObjectId('52cdef7c4bab8bd675297efd'),\n",
       "  'name': 'ZoomInfo',\n",
       "  'founded_year': 2000},\n",
       " {'_id': ObjectId('52cdef7c4bab8bd675297f12'),\n",
       "  'name': 'eHarmony',\n",
       "  'founded_year': 2000}]"
      ]
     },
     "execution_count": 5,
     "metadata": {},
     "output_type": "execute_result"
    }
   ],
   "source": [
    "# Your Code\n",
    "q3 = {'$and':[{'founded_year':{\"$gte\":2000}},{'founded_year':{\"$lte\":2005}}]}\n",
    "found_year = db.companies.find(q3,projection={'name','founded_year'}).sort('founded_year',1)\n",
    "list(found_year.limit(10))"
   ]
  },
  {
   "cell_type": "markdown",
   "metadata": {},
   "source": [
    "### 4. All the companies that had a Valuation Amount of more than 100.000.000 and have been founded before 2010. Retrieve only the `name` and `ipo` fields."
   ]
  },
  {
   "cell_type": "code",
   "execution_count": 6,
   "metadata": {},
   "outputs": [
    {
     "data": {
      "text/plain": [
       "[{'_id': ObjectId('52cdef7c4bab8bd675297f15'),\n",
       "  'name': 'Nielsen',\n",
       "  'founded_year': 1922,\n",
       "  'ipo': {'valuation_amount': 1600000000}},\n",
       " {'_id': ObjectId('52cdef7e4bab8bd67529b996'),\n",
       "  'name': 'Western Digital',\n",
       "  'founded_year': 1970,\n",
       "  'ipo': {'valuation_amount': 9430000000}},\n",
       " {'_id': ObjectId('52cdef7c4bab8bd67529859a'),\n",
       "  'name': 'BMC Software',\n",
       "  'founded_year': 1980,\n",
       "  'ipo': {'valuation_amount': 6000000000}},\n",
       " {'_id': ObjectId('52cdef7c4bab8bd6752987fe'),\n",
       "  'name': 'Geeknet',\n",
       "  'founded_year': 1993,\n",
       "  'ipo': {'valuation_amount': 134000000}},\n",
       " {'_id': ObjectId('52cdef7d4bab8bd6752992c1'),\n",
       "  'name': 'QlikTech',\n",
       "  'founded_year': 1993,\n",
       "  'ipo': {'valuation_amount': 1000000000}},\n",
       " {'_id': ObjectId('52cdef7c4bab8bd675297e7a'),\n",
       "  'name': 'Amazon',\n",
       "  'founded_year': 1994,\n",
       "  'ipo': {'valuation_amount': 100000000000}},\n",
       " {'_id': ObjectId('52cdef7c4bab8bd675297f36'),\n",
       "  'name': 'OpenTable',\n",
       "  'founded_year': 1998,\n",
       "  'ipo': {'valuation_amount': 1050000000}},\n",
       " {'_id': ObjectId('52cdef7c4bab8bd675298527'),\n",
       "  'name': 'Rackspace',\n",
       "  'founded_year': 1998,\n",
       "  'ipo': {'valuation_amount': 5440000000}},\n",
       " {'_id': ObjectId('52cdef7c4bab8bd675298674'),\n",
       "  'name': 'Tencent',\n",
       "  'founded_year': 1998,\n",
       "  'ipo': {'valuation_amount': 11000000000}},\n",
       " {'_id': ObjectId('52cdef7c4bab8bd675298112'),\n",
       "  'name': 'Shutterfly',\n",
       "  'founded_year': 1999,\n",
       "  'ipo': {'valuation_amount': 350000000}},\n",
       " {'_id': ObjectId('52cdef7c4bab8bd67529823b'),\n",
       "  'name': 'Salesforce',\n",
       "  'founded_year': 1999,\n",
       "  'ipo': {'valuation_amount': 110000000}},\n",
       " {'_id': ObjectId('52cdef7c4bab8bd6752984e3'),\n",
       "  'name': 'QuinStreet',\n",
       "  'founded_year': 1999,\n",
       "  'ipo': {'valuation_amount': 140000000}},\n",
       " {'_id': ObjectId('52cdef7c4bab8bd67529865c'),\n",
       "  'name': 'Infoblox',\n",
       "  'founded_year': 1999,\n",
       "  'ipo': {'valuation_amount': 824000000}},\n",
       " {'_id': ObjectId('52cdef7c4bab8bd675298760'),\n",
       "  'name': 'Baidu',\n",
       "  'founded_year': 1999,\n",
       "  'ipo': {'valuation_amount': 4000000000}},\n",
       " {'_id': ObjectId('52cdef7d4bab8bd6752989a0'),\n",
       "  'name': 'Opsware',\n",
       "  'founded_year': 1999,\n",
       "  'ipo': {'valuation_amount': 450000000}},\n",
       " {'_id': ObjectId('52cdef7d4bab8bd6752989f2'),\n",
       "  'name': 'Telenav',\n",
       "  'founded_year': 1999,\n",
       "  'ipo': {'valuation_amount': 337000000}},\n",
       " {'_id': ObjectId('52cdef7d4bab8bd675299103'),\n",
       "  'name': 'Mixi',\n",
       "  'founded_year': 1999,\n",
       "  'ipo': {'valuation_amount': 970000000}},\n",
       " {'_id': ObjectId('52cdef7e4bab8bd67529a7db'),\n",
       "  'name': 'SolarWinds',\n",
       "  'founded_year': 1999,\n",
       "  'ipo': {'valuation_amount': 803000000}},\n",
       " {'_id': ObjectId('52cdef7e4bab8bd67529ad05'),\n",
       "  'name': 'DemandTec',\n",
       "  'founded_year': 1999,\n",
       "  'ipo': {'valuation_amount': 245000000}},\n",
       " {'_id': ObjectId('52cdef7e4bab8bd67529b3bd'),\n",
       "  'name': 'Cornerstone OnDemand',\n",
       "  'founded_year': 1999,\n",
       "  'ipo': {'valuation_amount': 900000000}}]"
      ]
     },
     "execution_count": 6,
     "metadata": {},
     "output_type": "execute_result"
    }
   ],
   "source": [
    "# Your Code\n",
    "q4 = {'$and':[{'ipo.valuation_amount':{'$gte':100000000}},{'founded_year':{'$lte':2010}}]}\n",
    "val = db.companies.find(q4,projection={'name','ipo.valuation_amount','founded_year'}).sort('founded_year',1)\n",
    "list(val.limit(20))"
   ]
  },
  {
   "cell_type": "markdown",
   "metadata": {},
   "source": [
    "### 5. All the companies that have less than 1000 employees and have been founded before 2005. Order them by the number of employees and limit the search to 10 companies."
   ]
  },
  {
   "cell_type": "code",
   "execution_count": 7,
   "metadata": {},
   "outputs": [
    {
     "data": {
      "text/plain": [
       "[{'_id': ObjectId('52cdef7d4bab8bd675298933'),\n",
       "  'name': 'Infinera Corporation',\n",
       "  'number_of_employees': 974,\n",
       "  'founded_year': 2000},\n",
       " {'_id': ObjectId('52cdef7c4bab8bd675297e10'),\n",
       "  'name': 'Box',\n",
       "  'number_of_employees': 950,\n",
       "  'founded_year': 2005},\n",
       " {'_id': ObjectId('52cdef7e4bab8bd67529ac95'),\n",
       "  'name': 'NorthPoint Communications Group',\n",
       "  'number_of_employees': 948,\n",
       "  'founded_year': 1997},\n",
       " {'_id': ObjectId('52cdef7f4bab8bd67529be17'),\n",
       "  'name': '888 Holdings',\n",
       "  'number_of_employees': 931,\n",
       "  'founded_year': 1997},\n",
       " {'_id': ObjectId('52cdef7c4bab8bd6752986a2'),\n",
       "  'name': 'Forrester Research',\n",
       "  'number_of_employees': 903,\n",
       "  'founded_year': 1983},\n",
       " {'_id': ObjectId('52cdef7c4bab8bd6752984e9'),\n",
       "  'name': 'Workday',\n",
       "  'number_of_employees': 900,\n",
       "  'founded_year': 2005},\n",
       " {'_id': ObjectId('52cdef7e4bab8bd67529af6d'),\n",
       "  'name': 'SonicWALL',\n",
       "  'number_of_employees': 900,\n",
       "  'founded_year': 1991},\n",
       " {'_id': ObjectId('52cdef7e4bab8bd67529b21b'),\n",
       "  'name': 'Webmetrics',\n",
       "  'number_of_employees': 900,\n",
       "  'founded_year': 1999},\n",
       " {'_id': ObjectId('52cdef7e4bab8bd67529b3bd'),\n",
       "  'name': 'Cornerstone OnDemand',\n",
       "  'number_of_employees': 881,\n",
       "  'founded_year': 1999},\n",
       " {'_id': ObjectId('52cdef7c4bab8bd675297de0'),\n",
       "  'name': 'Yelp',\n",
       "  'number_of_employees': 800,\n",
       "  'founded_year': 2004}]"
      ]
     },
     "execution_count": 7,
     "metadata": {},
     "output_type": "execute_result"
    }
   ],
   "source": [
    "# Your Code\n",
    "q5 = {'$and':[{'number_of_employees':{'$lt':1000}},{'founded_year':{'$lte':2005}}]}\n",
    "emp_year = db.companies.find(q5,projection={'name','number_of_employees','founded_year'}).sort('number_of_employees',-1)\n",
    "list(emp_year.limit(10))"
   ]
  },
  {
   "cell_type": "markdown",
   "metadata": {},
   "source": [
    "### 6. All the companies that don't include the `partners` field."
   ]
  },
  {
   "cell_type": "code",
   "execution_count": 27,
   "metadata": {},
   "outputs": [
    {
     "name": "stdout",
     "output_type": "stream",
     "text": [
      "Todos los documentos tienen el campo 'partners'\n"
     ]
    }
   ],
   "source": [
    "# Your Code\n",
    "q6={'partners':{'$exists': False}}\n",
    "no_par = db.companies.find(q6,projection={'name'})\n",
    "if no_par==[]:\n",
    "    print(list(no_par))\n",
    "else:\n",
    "    print(\"Todos los documentos tienen el campo 'partners'\")"
   ]
  },
  {
   "cell_type": "markdown",
   "metadata": {},
   "source": [
    "### 7. All the companies that have a null type of value on the `category_code` field."
   ]
  },
  {
   "cell_type": "code",
   "execution_count": 34,
   "metadata": {},
   "outputs": [
    {
     "data": {
      "text/plain": [
       "[{'_id': ObjectId('52cdef7c4bab8bd6752980f6'),\n",
       "  'name': 'Collective',\n",
       "  'category_code': None},\n",
       " {'_id': ObjectId('52cdef7c4bab8bd675298225'),\n",
       "  'name': 'Snimmer',\n",
       "  'category_code': None},\n",
       " {'_id': ObjectId('52cdef7c4bab8bd675298226'),\n",
       "  'name': 'KoolIM',\n",
       "  'category_code': None},\n",
       " {'_id': ObjectId('52cdef7c4bab8bd675298261'),\n",
       "  'name': 'Level9 Media',\n",
       "  'category_code': None},\n",
       " {'_id': ObjectId('52cdef7c4bab8bd675298262'),\n",
       "  'name': 'VidKing',\n",
       "  'category_code': None},\n",
       " {'_id': ObjectId('52cdef7c4bab8bd67529826e'),\n",
       "  'name': 'Drigg',\n",
       "  'category_code': None},\n",
       " {'_id': ObjectId('52cdef7c4bab8bd675298276'),\n",
       "  'name': 'SpaceTime',\n",
       "  'category_code': None},\n",
       " {'_id': ObjectId('52cdef7c4bab8bd67529827a'),\n",
       "  'name': 'MMDAYS',\n",
       "  'category_code': None},\n",
       " {'_id': ObjectId('52cdef7c4bab8bd675298279'),\n",
       "  'name': 'Touch Clarity',\n",
       "  'category_code': None},\n",
       " {'_id': ObjectId('52cdef7c4bab8bd67529827b'),\n",
       "  'name': 'Inside Group',\n",
       "  'category_code': None},\n",
       " {'_id': ObjectId('52cdef7c4bab8bd67529827e'),\n",
       "  'name': 'Repeater Store',\n",
       "  'category_code': None},\n",
       " {'_id': ObjectId('52cdef7c4bab8bd675298288'),\n",
       "  'name': 'Tapesh',\n",
       "  'category_code': None},\n",
       " {'_id': ObjectId('52cdef7c4bab8bd67529828a'),\n",
       "  'name': 'NewPersia',\n",
       "  'category_code': None},\n",
       " {'_id': ObjectId('52cdef7c4bab8bd675298289'),\n",
       "  'name': 'iPersians',\n",
       "  'category_code': None},\n",
       " {'_id': ObjectId('52cdef7c4bab8bd6752982ab'),\n",
       "  'name': 'Pyra Labs',\n",
       "  'category_code': None},\n",
       " {'_id': ObjectId('52cdef7c4bab8bd6752982b3'),\n",
       "  'name': 'Feedmap',\n",
       "  'category_code': None},\n",
       " {'_id': ObjectId('52cdef7c4bab8bd6752982e0'),\n",
       "  'name': 'NuvoMedia',\n",
       "  'category_code': None},\n",
       " {'_id': ObjectId('52cdef7c4bab8bd6752982e4'),\n",
       "  'name': 'Intwine',\n",
       "  'category_code': None},\n",
       " {'_id': ObjectId('52cdef7c4bab8bd6752982f2'),\n",
       "  'name': 'ExecuNet',\n",
       "  'category_code': None},\n",
       " {'_id': ObjectId('52cdef7c4bab8bd6752982ef'),\n",
       "  'name': 'The Weinstein Company',\n",
       "  'category_code': None}]"
      ]
     },
     "execution_count": 34,
     "metadata": {},
     "output_type": "execute_result"
    }
   ],
   "source": [
    "# Your Code\n",
    "q7 = { 'category_code': None }\n",
    "null_cat = db.companies.find(q7,projection={'name','category_code'})\n",
    "list(null_cat.limit(20))"
   ]
  },
  {
   "cell_type": "markdown",
   "metadata": {},
   "source": [
    "### 8. All the companies that have at least 100 employees but less than 1000. Retrieve only the `name` and `number of employees` fields."
   ]
  },
  {
   "cell_type": "code",
   "execution_count": 38,
   "metadata": {},
   "outputs": [
    {
     "data": {
      "text/plain": [
       "[{'_id': ObjectId('52cdef7d4bab8bd67529a136'),\n",
       "  'name': 'Datamonitor',\n",
       "  'number_of_employees': 984},\n",
       " {'_id': ObjectId('52cdef7d4bab8bd675298933'),\n",
       "  'name': 'Infinera Corporation',\n",
       "  'number_of_employees': 974},\n",
       " {'_id': ObjectId('52cdef7c4bab8bd675297e10'),\n",
       "  'name': 'Box',\n",
       "  'number_of_employees': 950},\n",
       " {'_id': ObjectId('52cdef7e4bab8bd67529ac95'),\n",
       "  'name': 'NorthPoint Communications Group',\n",
       "  'number_of_employees': 948},\n",
       " {'_id': ObjectId('52cdef7f4bab8bd67529be17'),\n",
       "  'name': '888 Holdings',\n",
       "  'number_of_employees': 931},\n",
       " {'_id': ObjectId('52cdef7c4bab8bd6752986a2'),\n",
       "  'name': 'Forrester Research',\n",
       "  'number_of_employees': 903},\n",
       " {'_id': ObjectId('52cdef7c4bab8bd6752984e9'),\n",
       "  'name': 'Workday',\n",
       "  'number_of_employees': 900},\n",
       " {'_id': ObjectId('52cdef7c4bab8bd675298857'),\n",
       "  'name': 'InMobi',\n",
       "  'number_of_employees': 900},\n",
       " {'_id': ObjectId('52cdef7e4bab8bd67529acec'),\n",
       "  'name': 'Relax Solutions Pvt Ltd',\n",
       "  'number_of_employees': 900},\n",
       " {'_id': ObjectId('52cdef7e4bab8bd67529af6d'),\n",
       "  'name': 'SonicWALL',\n",
       "  'number_of_employees': 900}]"
      ]
     },
     "execution_count": 38,
     "metadata": {},
     "output_type": "execute_result"
    }
   ],
   "source": [
    "# Your Code\n",
    "q8 = {'$and':[{'number_of_employees':{'$gte':100}},{'number_of_employees':{'$lt':1000}}]}\n",
    "emp = db.companies.find(q8,projection={'name','number_of_employees'}).sort('number_of_employees',-1)\n",
    "list(emp.limit(10))"
   ]
  },
  {
   "cell_type": "markdown",
   "metadata": {},
   "source": [
    "### 9. Order all the companies by their IPO price in a descending order."
   ]
  },
  {
   "cell_type": "code",
   "execution_count": 39,
   "metadata": {},
   "outputs": [
    {
     "data": {
      "text/plain": [
       "[{'_id': ObjectId('52cdef7e4bab8bd67529a8b4'),\n",
       "  'name': 'GREE',\n",
       "  'ipo': {'valuation_amount': 108960000000}},\n",
       " {'_id': ObjectId('52cdef7c4bab8bd675297d8e'),\n",
       "  'name': 'Facebook',\n",
       "  'ipo': {'valuation_amount': 104000000000}},\n",
       " {'_id': ObjectId('52cdef7c4bab8bd675297e7a'),\n",
       "  'name': 'Amazon',\n",
       "  'ipo': {'valuation_amount': 100000000000}},\n",
       " {'_id': ObjectId('52cdef7c4bab8bd675297d94'),\n",
       "  'name': 'Twitter',\n",
       "  'ipo': {'valuation_amount': 18100000000}},\n",
       " {'_id': ObjectId('52cdef7d4bab8bd675299d5d'),\n",
       "  'name': 'Groupon',\n",
       "  'ipo': {'valuation_amount': 12800000000}},\n",
       " {'_id': ObjectId('52cdef7c4bab8bd675298674'),\n",
       "  'name': 'Tencent',\n",
       "  'ipo': {'valuation_amount': 11000000000}},\n",
       " {'_id': ObjectId('52cdef7e4bab8bd67529b996'),\n",
       "  'name': 'Western Digital',\n",
       "  'ipo': {'valuation_amount': 9430000000}},\n",
       " {'_id': ObjectId('52cdef7c4bab8bd675297e0c'),\n",
       "  'name': 'LinkedIn',\n",
       "  'ipo': {'valuation_amount': 9310000000}},\n",
       " {'_id': ObjectId('52cdef7c4bab8bd67529859a'),\n",
       "  'name': 'BMC Software',\n",
       "  'ipo': {'valuation_amount': 6000000000}},\n",
       " {'_id': ObjectId('52cdef7c4bab8bd675298527'),\n",
       "  'name': 'Rackspace',\n",
       "  'ipo': {'valuation_amount': 5440000000}}]"
      ]
     },
     "execution_count": 39,
     "metadata": {},
     "output_type": "execute_result"
    }
   ],
   "source": [
    "# Your Code\n",
    "q9 = {'ipo.valuation_amount':{'$exists': True}}\n",
    "ipo = db.companies.find(q9,projection={'name','ipo.valuation_amount'}).sort('ipo.valuation_amount',-1)\n",
    "list(ipo.limit(10))"
   ]
  },
  {
   "cell_type": "markdown",
   "metadata": {},
   "source": [
    "### 10. Retrieve the 10 companies with more employees, order by the `number of employees`"
   ]
  },
  {
   "cell_type": "code",
   "execution_count": 45,
   "metadata": {},
   "outputs": [
    {
     "data": {
      "text/plain": [
       "[{'_id': ObjectId('52cdef7d4bab8bd67529941a'),\n",
       "  'name': 'Siemens',\n",
       "  'number_of_employees': 405000},\n",
       " {'_id': ObjectId('52cdef7c4bab8bd67529856a'),\n",
       "  'name': 'IBM',\n",
       "  'number_of_employees': 388000},\n",
       " {'_id': ObjectId('52cdef7d4bab8bd675299d33'),\n",
       "  'name': 'Toyota',\n",
       "  'number_of_employees': 320000},\n",
       " {'_id': ObjectId('52cdef7c4bab8bd675297e89'),\n",
       "  'name': 'PayPal',\n",
       "  'number_of_employees': 300000},\n",
       " {'_id': ObjectId('52cdef7e4bab8bd67529b0fe'),\n",
       "  'name': 'Nippon Telegraph and Telephone Corporation',\n",
       "  'number_of_employees': 227000},\n",
       " {'_id': ObjectId('52cdef7d4bab8bd675298aa4'),\n",
       "  'name': 'Samsung Electronics',\n",
       "  'number_of_employees': 221726},\n",
       " {'_id': ObjectId('52cdef7d4bab8bd675298b99'),\n",
       "  'name': 'Accenture',\n",
       "  'number_of_employees': 205000},\n",
       " {'_id': ObjectId('52cdef7e4bab8bd67529a657'),\n",
       "  'name': 'Tata Consultancy Services',\n",
       "  'number_of_employees': 200300},\n",
       " {'_id': ObjectId('52cdef7e4bab8bd67529aa51'),\n",
       "  'name': 'Flextronics International',\n",
       "  'number_of_employees': 200000},\n",
       " {'_id': ObjectId('52cdef7d4bab8bd675299156'),\n",
       "  'name': 'Safeway',\n",
       "  'number_of_employees': 186000}]"
      ]
     },
     "execution_count": 45,
     "metadata": {},
     "output_type": "execute_result"
    }
   ],
   "source": [
    "# Your Code\n",
    "q10={'number_of_employees':{'$gte':100}}\n",
    "maxemp = db.companies.find(q10,projection={'name','number_of_employees'}).sort('number_of_employees',-1)\n",
    "list(maxemp.limit(10))"
   ]
  },
  {
   "cell_type": "markdown",
   "metadata": {},
   "source": [
    "### 11. All the companies founded on the second semester of the year. Limit your search to 1000 companies."
   ]
  },
  {
   "cell_type": "code",
   "execution_count": 81,
   "metadata": {},
   "outputs": [
    {
     "data": {
      "text/plain": [
       "[{'_id': ObjectId('52cdef7c4bab8bd675297d90'),\n",
       "  'name': 'Postini',\n",
       "  'founded_month': 6},\n",
       " {'_id': ObjectId('52cdef7c4bab8bd675297d91'),\n",
       "  'name': 'Geni',\n",
       "  'founded_month': 6},\n",
       " {'_id': ObjectId('52cdef7c4bab8bd675297d93'),\n",
       "  'name': 'Fox Interactive Media',\n",
       "  'founded_month': 6},\n",
       " {'_id': ObjectId('52cdef7c4bab8bd675297da5'),\n",
       "  'name': 'Technorati',\n",
       "  'founded_month': 6},\n",
       " {'_id': ObjectId('52cdef7c4bab8bd675297daa'),\n",
       "  'name': 'Sparter',\n",
       "  'founded_month': 6},\n",
       " {'_id': ObjectId('52cdef7c4bab8bd675297dc8'),\n",
       "  'name': 'Topix',\n",
       "  'founded_month': 6},\n",
       " {'_id': ObjectId('52cdef7c4bab8bd675297dca'),\n",
       "  'name': 'Pownce',\n",
       "  'founded_month': 6},\n",
       " {'_id': ObjectId('52cdef7c4bab8bd675297dd5'),\n",
       "  'name': 'AllofMP3',\n",
       "  'founded_month': 6},\n",
       " {'_id': ObjectId('52cdef7c4bab8bd675297dfc'),\n",
       "  'name': 'TripHub',\n",
       "  'founded_month': 6},\n",
       " {'_id': ObjectId('52cdef7c4bab8bd675297e00'),\n",
       "  'name': 'TVtrip',\n",
       "  'founded_month': 6}]"
      ]
     },
     "execution_count": 81,
     "metadata": {},
     "output_type": "execute_result"
    }
   ],
   "source": [
    "# Your Code\n",
    "\n",
    "q11 ={'$and':[{'founded_month':{'$gte': 6}},{'founded_month':{'$lte':12}}]}\n",
    "secsem = db.companies.find(q11,projection={'name','founded_month'}).sort('founded_month',1).limit(10)\n",
    "list(secsem)"
   ]
  },
  {
   "cell_type": "markdown",
   "metadata": {},
   "source": [
    "### 12. All the companies founded before 2000 that have an acquisition amount of more than 10.000.00"
   ]
  },
  {
   "cell_type": "code",
   "execution_count": 67,
   "metadata": {},
   "outputs": [
    {
     "data": {
      "text/plain": [
       "[{'_id': ObjectId('52cdef7c4bab8bd675297e7a'),\n",
       "  'name': 'Amazon',\n",
       "  'founded_year': 1994,\n",
       "  'ipo': {'valuation_amount': 100000000000}},\n",
       " {'_id': ObjectId('52cdef7c4bab8bd675298674'),\n",
       "  'name': 'Tencent',\n",
       "  'founded_year': 1998,\n",
       "  'ipo': {'valuation_amount': 11000000000}},\n",
       " {'_id': ObjectId('52cdef7e4bab8bd67529b996'),\n",
       "  'name': 'Western Digital',\n",
       "  'founded_year': 1970,\n",
       "  'ipo': {'valuation_amount': 9430000000}},\n",
       " {'_id': ObjectId('52cdef7c4bab8bd67529859a'),\n",
       "  'name': 'BMC Software',\n",
       "  'founded_year': 1980,\n",
       "  'ipo': {'valuation_amount': 6000000000}},\n",
       " {'_id': ObjectId('52cdef7c4bab8bd675298527'),\n",
       "  'name': 'Rackspace',\n",
       "  'founded_year': 1998,\n",
       "  'ipo': {'valuation_amount': 5440000000}},\n",
       " {'_id': ObjectId('52cdef7c4bab8bd675298760'),\n",
       "  'name': 'Baidu',\n",
       "  'founded_year': 1999,\n",
       "  'ipo': {'valuation_amount': 4000000000}},\n",
       " {'_id': ObjectId('52cdef7c4bab8bd6752981a7'),\n",
       "  'name': 'TripAdvisor',\n",
       "  'founded_year': 2000,\n",
       "  'ipo': {'valuation_amount': 3273770000}},\n",
       " {'_id': ObjectId('52cdef7c4bab8bd675297f15'),\n",
       "  'name': 'Nielsen',\n",
       "  'founded_year': 1922,\n",
       "  'ipo': {'valuation_amount': 1600000000}},\n",
       " {'_id': ObjectId('52cdef7c4bab8bd675298649'),\n",
       "  'name': 'Higher One',\n",
       "  'founded_year': 2000,\n",
       "  'ipo': {'valuation_amount': 1060000000}},\n",
       " {'_id': ObjectId('52cdef7c4bab8bd675297f36'),\n",
       "  'name': 'OpenTable',\n",
       "  'founded_year': 1998,\n",
       "  'ipo': {'valuation_amount': 1050000000}}]"
      ]
     },
     "execution_count": 67,
     "metadata": {},
     "output_type": "execute_result"
    }
   ],
   "source": [
    "# Your Code\n",
    "q12 = {'$and':[{'ipo.valuation_amount':{'$gte':1000000}},{'founded_year':{'$lte':2000}}]}\n",
    "foaq = db.companies.find(q12,projection={'name','ipo.valuation_amount','founded_year'}).sort('ipo.valuation_amount',-1)\n",
    "list(foaq.limit(10))"
   ]
  },
  {
   "cell_type": "markdown",
   "metadata": {},
   "source": [
    "### 13. All the companies that have been acquired after 2010, order by the acquisition amount, and retrieve only their `name` and `acquisition` field."
   ]
  },
  {
   "cell_type": "code",
   "execution_count": 72,
   "metadata": {},
   "outputs": [
    {
     "data": {
      "text/plain": [
       "[{'_id': ObjectId('52cdef7d4bab8bd675298d41'),\n",
       "  'name': 'Sense Networks',\n",
       "  'acquisition': {'acquired_year': 2014}},\n",
       " {'_id': ObjectId('52cdef7d4bab8bd67529a1a3'),\n",
       "  'name': 'Nullsoft',\n",
       "  'acquisition': {'acquired_year': 2014}},\n",
       " {'_id': ObjectId('52cdef7e4bab8bd67529ad53'),\n",
       "  'name': 'Alverix',\n",
       "  'acquisition': {'acquired_year': 2014}},\n",
       " {'_id': ObjectId('52cdef7c4bab8bd675297d8a'),\n",
       "  'name': 'Wetpaint',\n",
       "  'acquisition': {'acquired_year': 2013}},\n",
       " {'_id': ObjectId('52cdef7c4bab8bd675297dbf'),\n",
       "  'name': 'blogTV',\n",
       "  'acquisition': {'acquired_year': 2013}},\n",
       " {'_id': ObjectId('52cdef7c4bab8bd675297ddd'),\n",
       "  'name': 'Mashery',\n",
       "  'acquisition': {'acquired_year': 2013}},\n",
       " {'_id': ObjectId('52cdef7c4bab8bd675297dee'),\n",
       "  'name': 'Dailymotion',\n",
       "  'acquisition': {'acquired_year': 2013}},\n",
       " {'_id': ObjectId('52cdef7c4bab8bd675297e06'),\n",
       "  'name': 'adBrite',\n",
       "  'acquisition': {'acquired_year': 2013}},\n",
       " {'_id': ObjectId('52cdef7c4bab8bd675297e5a'),\n",
       "  'name': 'Grockit',\n",
       "  'acquisition': {'acquired_year': 2013}},\n",
       " {'_id': ObjectId('52cdef7c4bab8bd675297e5e'),\n",
       "  'name': 'Zenfolio',\n",
       "  'acquisition': {'acquired_year': 2013}},\n",
       " {'_id': ObjectId('52cdef7c4bab8bd675297e64'),\n",
       "  'name': 'LongJump',\n",
       "  'acquisition': {'acquired_year': 2013}},\n",
       " {'_id': ObjectId('52cdef7c4bab8bd675297f00'),\n",
       "  'name': 'Docstoc',\n",
       "  'acquisition': {'acquired_year': 2013}},\n",
       " {'_id': ObjectId('52cdef7c4bab8bd675297f3d'),\n",
       "  'name': 'LocaModa',\n",
       "  'acquisition': {'acquired_year': 2013}},\n",
       " {'_id': ObjectId('52cdef7c4bab8bd675297f64'),\n",
       "  'name': 'Tutor',\n",
       "  'acquisition': {'acquired_year': 2013}},\n",
       " {'_id': ObjectId('52cdef7c4bab8bd675297fe7'),\n",
       "  'name': 'Xobni',\n",
       "  'acquisition': {'acquired_year': 2013}}]"
      ]
     },
     "execution_count": 72,
     "metadata": {},
     "output_type": "execute_result"
    }
   ],
   "source": [
    "# Your Code\n",
    "\"acquisition.acquired_year\"\n",
    "q13 = {\"acquisition.acquired_year\":{'$gte':2010}}\n",
    "acq = db.companies.find(q13,projection={'name',\"acquisition.acquired_year\"}).sort(\"acquisition.acquired_year\",-1)\n",
    "list(acq.limit(15))"
   ]
  },
  {
   "cell_type": "markdown",
   "metadata": {},
   "source": [
    "### 14. Order the companies by their `founded year`, retrieving only their `name` and `founded year`."
   ]
  },
  {
   "cell_type": "code",
   "execution_count": 76,
   "metadata": {},
   "outputs": [
    {
     "data": {
      "text/plain": [
       "[{'_id': ObjectId('52cdef7c4bab8bd675297fec'),\n",
       "  'name': 'Fixya',\n",
       "  'founded_year': 2013},\n",
       " {'_id': ObjectId('52cdef7c4bab8bd67529801f'),\n",
       "  'name': 'Wamba',\n",
       "  'founded_year': 2013},\n",
       " {'_id': ObjectId('52cdef7c4bab8bd6752982d4'),\n",
       "  'name': 'Advaliant',\n",
       "  'founded_year': 2013},\n",
       " {'_id': ObjectId('52cdef7c4bab8bd67529830a'),\n",
       "  'name': 'Fluc',\n",
       "  'founded_year': 2013},\n",
       " {'_id': ObjectId('52cdef7d4bab8bd675298ea7'),\n",
       "  'name': 'iBazar',\n",
       "  'founded_year': 2013},\n",
       " {'_id': ObjectId('52cdef7d4bab8bd675298fe1'),\n",
       "  'name': 'Gimigo',\n",
       "  'founded_year': 2013},\n",
       " {'_id': ObjectId('52cdef7d4bab8bd675299291'),\n",
       "  'name': 'SEOGroup',\n",
       "  'founded_year': 2013},\n",
       " {'_id': ObjectId('52cdef7e4bab8bd67529a3b8'),\n",
       "  'name': 'Clowdy',\n",
       "  'founded_year': 2013},\n",
       " {'_id': ObjectId('52cdef7e4bab8bd67529a6e7'),\n",
       "  'name': 'WhosCall',\n",
       "  'founded_year': 2013},\n",
       " {'_id': ObjectId('52cdef7e4bab8bd67529b254'),\n",
       "  'name': 'Pikk',\n",
       "  'founded_year': 2013}]"
      ]
     },
     "execution_count": 76,
     "metadata": {},
     "output_type": "execute_result"
    }
   ],
   "source": [
    "# Your Code\n",
    "q14 ={'founded_year':{'$gte':1500}}\n",
    "fy = db.companies.find(q14,projection={'name','founded_year'}).sort('founded_year',-1)\n",
    "list(fy.limit(10))"
   ]
  },
  {
   "cell_type": "markdown",
   "metadata": {},
   "source": [
    "### 15. All the companies that have been founded on the first seven days of the month, including the seventh. Sort them by their `acquisition price` in a descending order. Limit the search to 10 documents."
   ]
  },
  {
   "cell_type": "code",
   "execution_count": 86,
   "metadata": {},
   "outputs": [
    {
     "data": {
      "text/plain": [
       "[{'_id': ObjectId('52cdef7d4bab8bd6752989a1'),\n",
       "  'name': 'Netscape',\n",
       "  'founded_day': 4,\n",
       "  'acquisition': {'price_amount': 4200000000}},\n",
       " {'_id': ObjectId('52cdef7c4bab8bd675297e89'),\n",
       "  'name': 'PayPal',\n",
       "  'founded_day': 1,\n",
       "  'acquisition': {'price_amount': 1500000000}},\n",
       " {'_id': ObjectId('52cdef7c4bab8bd675297efe'),\n",
       "  'name': 'Zappos',\n",
       "  'founded_day': 1,\n",
       "  'acquisition': {'price_amount': 1200000000}},\n",
       " {'_id': ObjectId('52cdef7c4bab8bd675297f0c'),\n",
       "  'name': 'Alibaba',\n",
       "  'founded_day': 1,\n",
       "  'acquisition': {'price_amount': 1000000000}},\n",
       " {'_id': ObjectId('52cdef7c4bab8bd675297d90'),\n",
       "  'name': 'Postini',\n",
       "  'founded_day': 2,\n",
       "  'acquisition': {'price_amount': 625000000}},\n",
       " {'_id': ObjectId('52cdef7c4bab8bd67529831c'),\n",
       "  'name': 'Danger',\n",
       "  'founded_day': 1,\n",
       "  'acquisition': {'price_amount': 500000000}},\n",
       " {'_id': ObjectId('52cdef7c4bab8bd675298651'),\n",
       "  'name': 'Clearwell Systems',\n",
       "  'founded_day': 6,\n",
       "  'acquisition': {'price_amount': 410000000}},\n",
       " {'_id': ObjectId('52cdef7d4bab8bd6752989b8'),\n",
       "  'name': 'PrimeSense',\n",
       "  'founded_day': 1,\n",
       "  'acquisition': {'price_amount': 345000000}},\n",
       " {'_id': ObjectId('52cdef7c4bab8bd675298207'),\n",
       "  'name': 'Amobee',\n",
       "  'founded_day': 1,\n",
       "  'acquisition': {'price_amount': 321000000}},\n",
       " {'_id': ObjectId('52cdef7c4bab8bd675297ef1'),\n",
       "  'name': 'BlueLithium',\n",
       "  'founded_day': 1,\n",
       "  'acquisition': {'price_amount': 300000000}}]"
      ]
     },
     "execution_count": 86,
     "metadata": {},
     "output_type": "execute_result"
    }
   ],
   "source": [
    "# Your Code\n",
    "q15 = {'$and':[{'founded_day':{'$gte':1}},{'founded_day':{'$lte':7}}]}\n",
    "fd = db.companies.find(q15,projection={'name','acquisition.price_amount','founded_day'}).limit(10).sort('acquisition.price_amount',-1)\n",
    "list(fd)"
   ]
  },
  {
   "cell_type": "code",
   "execution_count": 90,
   "metadata": {
    "scrolled": false
   },
   "outputs": [
    {
     "data": {
      "text/plain": [
       "[{'_id': ObjectId('52cdef7c4bab8bd675297dba'),\n",
       "  'name': 'Google',\n",
       "  'founded_day': 7,\n",
       "  'acquisitions': [{'price_amount': 60000000},\n",
       "   {'price_amount': 100000000},\n",
       "   {'price_amount': 102000000},\n",
       "   {'price_amount': None},\n",
       "   {'price_amount': 12000000},\n",
       "   {'price_amount': None},\n",
       "   {'price_amount': None},\n",
       "   {'price_amount': None},\n",
       "   {'price_amount': 3100000000},\n",
       "   {'price_amount': 50000000},\n",
       "   {'price_amount': None},\n",
       "   {'price_amount': None},\n",
       "   {'price_amount': None},\n",
       "   {'price_amount': 23000000},\n",
       "   {'price_amount': None},\n",
       "   {'price_amount': None},\n",
       "   {'price_amount': None},\n",
       "   {'price_amount': 102000000},\n",
       "   {'price_amount': None},\n",
       "   {'price_amount': None},\n",
       "   {'price_amount': None},\n",
       "   {'price_amount': None},\n",
       "   {'price_amount': None},\n",
       "   {'price_amount': None},\n",
       "   {'price_amount': None},\n",
       "   {'price_amount': None},\n",
       "   {'price_amount': None},\n",
       "   {'price_amount': None},\n",
       "   {'price_amount': None},\n",
       "   {'price_amount': None},\n",
       "   {'price_amount': None},\n",
       "   {'price_amount': None},\n",
       "   {'price_amount': None},\n",
       "   {'price_amount': None},\n",
       "   {'price_amount': None},\n",
       "   {'price_amount': None},\n",
       "   {'price_amount': None},\n",
       "   {'price_amount': None},\n",
       "   {'price_amount': 28000000},\n",
       "   {'price_amount': None},\n",
       "   {'price_amount': None},\n",
       "   {'price_amount': None},\n",
       "   {'price_amount': 20300000},\n",
       "   {'price_amount': None},\n",
       "   {'price_amount': 625000000},\n",
       "   {'price_amount': None},\n",
       "   {'price_amount': 15000000},\n",
       "   {'price_amount': None},\n",
       "   {'price_amount': 1650000000},\n",
       "   {'price_amount': 130000000},\n",
       "   {'price_amount': None},\n",
       "   {'price_amount': None},\n",
       "   {'price_amount': 750000000},\n",
       "   {'price_amount': 30000000},\n",
       "   {'price_amount': None},\n",
       "   {'price_amount': None},\n",
       "   {'price_amount': 25000000},\n",
       "   {'price_amount': 50000000},\n",
       "   {'price_amount': None},\n",
       "   {'price_amount': None},\n",
       "   {'price_amount': None},\n",
       "   {'price_amount': None},\n",
       "   {'price_amount': None},\n",
       "   {'price_amount': 25000000},\n",
       "   {'price_amount': 35000000},\n",
       "   {'price_amount': 68200000},\n",
       "   {'price_amount': None},\n",
       "   {'price_amount': 80000000},\n",
       "   {'price_amount': 700000000},\n",
       "   {'price_amount': None},\n",
       "   {'price_amount': None},\n",
       "   {'price_amount': 182000000},\n",
       "   {'price_amount': 70000000},\n",
       "   {'price_amount': None},\n",
       "   {'price_amount': None},\n",
       "   {'price_amount': None},\n",
       "   {'price_amount': 12000000},\n",
       "   {'price_amount': None},\n",
       "   {'price_amount': None},\n",
       "   {'price_amount': None},\n",
       "   {'price_amount': None},\n",
       "   {'price_amount': None},\n",
       "   {'price_amount': None},\n",
       "   {'price_amount': 160000000},\n",
       "   {'price_amount': None},\n",
       "   {'price_amount': None},\n",
       "   {'price_amount': 10000000},\n",
       "   {'price_amount': None},\n",
       "   {'price_amount': None},\n",
       "   {'price_amount': 37700000},\n",
       "   {'price_amount': None},\n",
       "   {'price_amount': None},\n",
       "   {'price_amount': 4900000},\n",
       "   {'price_amount': None},\n",
       "   {'price_amount': 400000000},\n",
       "   {'price_amount': None},\n",
       "   {'price_amount': None},\n",
       "   {'price_amount': None},\n",
       "   {'price_amount': None},\n",
       "   {'price_amount': 30000000},\n",
       "   {'price_amount': None},\n",
       "   {'price_amount': 12500000000},\n",
       "   {'price_amount': None},\n",
       "   {'price_amount': 151000000},\n",
       "   {'price_amount': None},\n",
       "   {'price_amount': None},\n",
       "   {'price_amount': None},\n",
       "   {'price_amount': None},\n",
       "   {'price_amount': None},\n",
       "   {'price_amount': None},\n",
       "   {'price_amount': None},\n",
       "   {'price_amount': None},\n",
       "   {'price_amount': 100000000},\n",
       "   {'price_amount': None},\n",
       "   {'price_amount': None},\n",
       "   {'price_amount': None},\n",
       "   {'price_amount': 350000000},\n",
       "   {'price_amount': None},\n",
       "   {'price_amount': None},\n",
       "   {'price_amount': None},\n",
       "   {'price_amount': None},\n",
       "   {'price_amount': None},\n",
       "   {'price_amount': 125000000},\n",
       "   {'price_amount': None},\n",
       "   {'price_amount': None},\n",
       "   {'price_amount': None},\n",
       "   {'price_amount': 1100000000},\n",
       "   {'price_amount': None},\n",
       "   {'price_amount': None},\n",
       "   {'price_amount': 30000000},\n",
       "   {'price_amount': 40000000},\n",
       "   {'price_amount': None},\n",
       "   {'price_amount': 23000000},\n",
       "   {'price_amount': None},\n",
       "   {'price_amount': None}]}]"
      ]
     },
     "execution_count": 90,
     "metadata": {},
     "output_type": "execute_result"
    }
   ],
   "source": [
    "# NO ES LO MISMO ACQUISITION QUE ACQUISITIONS!!\n",
    "q15 = {'$and':[{'founded_day':{'$gte':1}},{'founded_day':{'$lte':7}}]}\n",
    "fd = db.companies.find(q15,projection={'name','acquisitions.price_amount','founded_day'}).limit(1).sort('acquisitions.price_amount',-1)\n",
    "list(fd)"
   ]
  },
  {
   "cell_type": "markdown",
   "metadata": {},
   "source": [
    "### 16. All the companies on the 'web' `category` that have more than 4000 employees. Sort them by the amount of employees in ascending order."
   ]
  },
  {
   "cell_type": "code",
   "execution_count": 92,
   "metadata": {},
   "outputs": [
    {
     "data": {
      "text/plain": [
       "[{'_id': ObjectId('52cdef7c4bab8bd67529822a'),\n",
       "  'name': 'Expedia',\n",
       "  'category_code': 'web',\n",
       "  'number_of_employees': 4400},\n",
       " {'_id': ObjectId('52cdef7c4bab8bd675297e96'),\n",
       "  'name': 'AOL',\n",
       "  'category_code': 'web',\n",
       "  'number_of_employees': 8000},\n",
       " {'_id': ObjectId('52cdef7c4bab8bd675297ea4'),\n",
       "  'name': 'Webkinz',\n",
       "  'category_code': 'web',\n",
       "  'number_of_employees': 8657},\n",
       " {'_id': ObjectId('52cdef7c4bab8bd675297fcb'),\n",
       "  'name': 'Rakuten',\n",
       "  'category_code': 'web',\n",
       "  'number_of_employees': 10000},\n",
       " {'_id': ObjectId('52cdef7c4bab8bd67529834c'),\n",
       "  'name': 'Los Angeles Times Media Group',\n",
       "  'category_code': 'web',\n",
       "  'number_of_employees': 10000},\n",
       " {'_id': ObjectId('52cdef7d4bab8bd675299d5d'),\n",
       "  'name': 'Groupon',\n",
       "  'category_code': 'web',\n",
       "  'number_of_employees': 10000},\n",
       " {'_id': ObjectId('52cdef7c4bab8bd675297da3'),\n",
       "  'name': 'Yahoo!',\n",
       "  'category_code': 'web',\n",
       "  'number_of_employees': 13600},\n",
       " {'_id': ObjectId('52cdef7c4bab8bd675297d9b'),\n",
       "  'name': 'eBay',\n",
       "  'category_code': 'web',\n",
       "  'number_of_employees': 15000},\n",
       " {'_id': ObjectId('52cdef7c4bab8bd6752982a8'),\n",
       "  'name': 'Experian',\n",
       "  'category_code': 'web',\n",
       "  'number_of_employees': 15500}]"
      ]
     },
     "execution_count": 92,
     "metadata": {},
     "output_type": "execute_result"
    }
   ],
   "source": [
    "# Your Code\n",
    "q16 = {'$and':[{'number_of_employees':{'$gte':4000}},{'category_code':\"web\"}]}\n",
    "cat = db.companies.find(q16,projection={'name','category_code','number_of_employees'}).sort('number_of_employees',1)\n",
    "list(cat.limit(10))"
   ]
  },
  {
   "cell_type": "markdown",
   "metadata": {},
   "source": [
    "### 17. All the companies whose acquisition amount is more than 10.000.000, and currency is 'EUR'."
   ]
  },
  {
   "cell_type": "code",
   "execution_count": 98,
   "metadata": {},
   "outputs": [
    {
     "data": {
      "text/plain": [
       "[{'_id': ObjectId('52cdef7d4bab8bd675298bf3'),\n",
       "  'name': 'Apertio',\n",
       "  'acquisition': {'price_amount': 140000000, 'price_currency_code': 'EUR'}},\n",
       " {'_id': ObjectId('52cdef7e4bab8bd67529a536'),\n",
       "  'name': 'Webedia',\n",
       "  'acquisition': {'price_amount': 70000000, 'price_currency_code': 'EUR'}},\n",
       " {'_id': ObjectId('52cdef7e4bab8bd67529b747'),\n",
       "  'name': 'Tuenti Technologies',\n",
       "  'acquisition': {'price_amount': 70000000, 'price_currency_code': 'EUR'}},\n",
       " {'_id': ObjectId('52cdef7f4bab8bd67529c0cf'),\n",
       "  'name': 'BioMed Central',\n",
       "  'acquisition': {'price_amount': 43400000, 'price_currency_code': 'EUR'}},\n",
       " {'_id': ObjectId('52cdef7d4bab8bd675298f47'),\n",
       "  'name': 'Greenfield Online',\n",
       "  'acquisition': {'price_amount': 40000000, 'price_currency_code': 'EUR'}},\n",
       " {'_id': ObjectId('52cdef7c4bab8bd675297f02'),\n",
       "  'name': 'ZYB',\n",
       "  'acquisition': {'price_amount': 31500000, 'price_currency_code': 'EUR'}},\n",
       " {'_id': ObjectId('52cdef7e4bab8bd67529a729'),\n",
       "  'name': 'Wayfinder',\n",
       "  'acquisition': {'price_amount': 24000000, 'price_currency_code': 'EUR'}}]"
      ]
     },
     "execution_count": 98,
     "metadata": {},
     "output_type": "execute_result"
    }
   ],
   "source": [
    "# Your Code\n",
    "q17 = {'$and':[{'acquisition.price_amount':{'$gte':10000000}},{'acquisition.price_currency_code':\"EUR\"}]}\n",
    "fd = db.companies.find(q17,projection={'name','acquisition.price_amount','acquisition.price_currency_code'}).sort('acquisition.price_amount',-1)\n",
    "list(fd.limit(10))"
   ]
  },
  {
   "cell_type": "markdown",
   "metadata": {},
   "source": [
    "### 18. All the companies that have been acquired on the first trimester of the year. Limit the search to 10 companies, and retrieve only their `name` and `acquisition` fields."
   ]
  },
  {
   "cell_type": "code",
   "execution_count": 101,
   "metadata": {},
   "outputs": [
    {
     "data": {
      "text/plain": [
       "[{'_id': ObjectId('52cdef7c4bab8bd675298876'),\n",
       "  'name': 'T-Mobile',\n",
       "  'acquisition': {'price_amount': 39000000000,\n",
       "   'price_currency_code': 'USD',\n",
       "   'term_code': None,\n",
       "   'source_url': 'http://techcrunch.com/2011/03/20/in-the-race-for-more-spectrum-att-is-acquiring-t-mobile-for-39-billion/',\n",
       "   'source_description': 'In The Race For More Spectrum, AT&T Is Acquiring T-Mobile For $39 Billion',\n",
       "   'acquired_year': 2011,\n",
       "   'acquired_month': 3,\n",
       "   'acquired_day': 20,\n",
       "   'acquiring_company': {'name': 'AT&T', 'permalink': 'at-t'}}},\n",
       " {'_id': ObjectId('52cdef7c4bab8bd6752983f8'),\n",
       "  'name': 'BEA Systems',\n",
       "  'acquisition': {'price_amount': 8500000000,\n",
       "   'price_currency_code': 'USD',\n",
       "   'term_code': None,\n",
       "   'source_url': 'http://www.oracle.com/corporate/press/2008_jan/bea.html',\n",
       "   'source_description': 'Oracle to Acquire BEA Systems',\n",
       "   'acquired_year': 2008,\n",
       "   'acquired_month': 1,\n",
       "   'acquired_day': 16,\n",
       "   'acquiring_company': {'name': 'Oracle Corporation',\n",
       "    'permalink': 'oracle'}}},\n",
       " {'_id': ObjectId('52cdef7d4bab8bd675299113'),\n",
       "  'name': 'Pixar',\n",
       "  'acquisition': {'price_amount': 7400000000,\n",
       "   'price_currency_code': 'USD',\n",
       "   'term_code': 'stock',\n",
       "   'source_url': 'http://www.pixar.com/companyinfo/about_us/overview.htm',\n",
       "   'source_description': 'Pixar About Page',\n",
       "   'acquired_year': 2006,\n",
       "   'acquired_month': 1,\n",
       "   'acquired_day': 24,\n",
       "   'acquiring_company': {'name': 'The Walt Disney Company',\n",
       "    'permalink': 'the-walt-disney-company'}}},\n",
       " {'_id': ObjectId('52cdef7e4bab8bd67529baf2'),\n",
       "  'name': 'Puget Energy',\n",
       "  'acquisition': {'price_amount': 7400000000,\n",
       "   'price_currency_code': 'USD',\n",
       "   'term_code': 'cash',\n",
       "   'source_url': 'http://www.xconomy.com/seattle/2009/02/09/puget-energy-goes-private-for-74b/',\n",
       "   'source_description': 'xconomy',\n",
       "   'acquired_year': 2009,\n",
       "   'acquired_month': 2,\n",
       "   'acquired_day': 9,\n",
       "   'acquiring_company': {'name': 'Puget Holdings',\n",
       "    'permalink': 'puget-holdings'}}},\n",
       " {'_id': ObjectId('52cdef7d4bab8bd675298934'),\n",
       "  'name': 'Siebel Systems',\n",
       "  'acquisition': {'price_amount': 5850000000,\n",
       "   'price_currency_code': 'USD',\n",
       "   'term_code': 'stock',\n",
       "   'source_url': 'http://www.oracle.com/corporate/press/2006_jan/sieb_cl.html',\n",
       "   'source_description': 'Oracle Agrees to Buy Siebel for $10.66 a Share  ',\n",
       "   'acquired_year': 2006,\n",
       "   'acquired_month': 1,\n",
       "   'acquired_day': 31,\n",
       "   'acquiring_company': {'name': 'Oracle Corporation',\n",
       "    'permalink': 'oracle'}}},\n",
       " {'_id': ObjectId('52cdef7e4bab8bd67529a751'),\n",
       "  'name': 'Sterling Commerce',\n",
       "  'acquisition': {'price_amount': 3900000000,\n",
       "   'price_currency_code': 'USD',\n",
       "   'term_code': None,\n",
       "   'source_url': 'http://news.cnet.com/2100-1033-237171.html',\n",
       "   'source_description': 'SBC e-commerce buy signals new ambitions',\n",
       "   'acquired_year': 2009,\n",
       "   'acquired_month': 2,\n",
       "   'acquired_day': 22,\n",
       "   'acquiring_company': {'name': 'AT&T', 'permalink': 'at-t'}}},\n",
       " {'_id': ObjectId('52cdef7c4bab8bd6752981d6'),\n",
       "  'name': 'SuccessFactors',\n",
       "  'acquisition': {'price_amount': 3400000000,\n",
       "   'price_currency_code': 'USD',\n",
       "   'term_code': None,\n",
       "   'source_url': 'http://techcrunch.com/2012/02/22/successfactors-sap/',\n",
       "   'source_description': 'After Closing $3.4B Acquisition Of SuccessFactors, SAP Pushes Human Capital Management In The Cloud',\n",
       "   'acquired_year': 2012,\n",
       "   'acquired_month': 2,\n",
       "   'acquired_day': 22,\n",
       "   'acquiring_company': {'name': 'SAP', 'permalink': 'sap'}}},\n",
       " {'_id': ObjectId('52cdef7d4bab8bd675299558'),\n",
       "  'name': 'WebEx',\n",
       "  'acquisition': {'price_amount': 2900000000,\n",
       "   'price_currency_code': 'USD',\n",
       "   'term_code': 'cash',\n",
       "   'source_url': 'http://blog.tmcnet.com/blog/tom-keating/voip/cisco-acquires-webex.asp',\n",
       "   'source_description': 'Cisco acquires WebEx',\n",
       "   'acquired_year': 2007,\n",
       "   'acquired_month': 3,\n",
       "   'acquired_day': 15,\n",
       "   'acquiring_company': {'name': 'Cisco', 'permalink': 'cisco'}}},\n",
       " {'_id': ObjectId('52cdef7d4bab8bd6752998e2'),\n",
       "  'name': 'WebEx',\n",
       "  'acquisition': {'price_amount': 2900000000,\n",
       "   'price_currency_code': 'USD',\n",
       "   'term_code': 'cash',\n",
       "   'source_url': 'http://blog.tmcnet.com/blog/tom-keating/voip/cisco-acquires-webex.asp',\n",
       "   'source_description': 'Cisco acquires WebEx',\n",
       "   'acquired_year': 2007,\n",
       "   'acquired_month': 3,\n",
       "   'acquired_day': 15,\n",
       "   'acquiring_company': {'name': 'Cisco', 'permalink': 'cisco'}}},\n",
       " {'_id': ObjectId('52cdef7d4bab8bd675299e1b'),\n",
       "  'name': 'GeoCities',\n",
       "  'acquisition': {'price_amount': 2870000000,\n",
       "   'price_currency_code': 'USD',\n",
       "   'term_code': 'cash',\n",
       "   'source_url': 'http://news.cnet.com/Yahoo-completes-GeoCities-acquisition/2100-1023_3-226485.html',\n",
       "   'source_description': 'Yahoo completes GeoCities acquisition',\n",
       "   'acquired_year': 1999,\n",
       "   'acquired_month': 1,\n",
       "   'acquired_day': 28,\n",
       "   'acquiring_company': {'name': 'Yahoo!', 'permalink': 'yahoo'}}}]"
      ]
     },
     "execution_count": 101,
     "metadata": {},
     "output_type": "execute_result"
    }
   ],
   "source": [
    "# Your Code\n",
    "q18 = {'$and':[{'acquisition.acquired_month':{'$gte':1}},{'acquisition.acquired_month':{'$lte':3}}]}\n",
    "nameacq = db.companies.find(q18,projection={'name','acquisition'}).limit(10).sort('acquisition.price_amount',-1)\n",
    "list(nameacq)"
   ]
  },
  {
   "cell_type": "markdown",
   "metadata": {},
   "source": [
    "# Bonus\n",
    "### 19. All the companies that have been founded between 2000 and 2010, but have not been acquired before 2011."
   ]
  },
  {
   "cell_type": "code",
   "execution_count": 106,
   "metadata": {},
   "outputs": [
    {
     "data": {
      "text/plain": [
       "[{'_id': ObjectId('52cdef7c4bab8bd675297eb6'),\n",
       "  'name': 'SelectMinds',\n",
       "  'founded_year': 2000,\n",
       "  'acquisition': {'acquired_year': 2012}},\n",
       " {'_id': ObjectId('52cdef7c4bab8bd675297f99'),\n",
       "  'name': 'WooMe',\n",
       "  'founded_year': 2000,\n",
       "  'acquisition': {'acquired_year': 2011}},\n",
       " {'_id': ObjectId('52cdef7c4bab8bd675298163'),\n",
       "  'name': 'Smilebox',\n",
       "  'founded_year': 2000,\n",
       "  'acquisition': {'acquired_year': 2011}},\n",
       " {'_id': ObjectId('52cdef7c4bab8bd675298349'),\n",
       "  'name': 'SnapNames',\n",
       "  'founded_year': 2000,\n",
       "  'acquisition': {'acquired_year': 2012}},\n",
       " {'_id': ObjectId('52cdef7c4bab8bd67529872c'),\n",
       "  'name': 'Zong',\n",
       "  'founded_year': 2000,\n",
       "  'acquisition': {'acquired_year': 2011}},\n",
       " {'_id': ObjectId('52cdef7d4bab8bd675298c0a'),\n",
       "  'name': 'Handmark',\n",
       "  'founded_year': 2000,\n",
       "  'acquisition': {'acquired_year': 2013}},\n",
       " {'_id': ObjectId('52cdef7d4bab8bd675298d9d'),\n",
       "  'name': 'Bestofmedia Group',\n",
       "  'founded_year': 2000,\n",
       "  'acquisition': {'acquired_year': 2013}},\n",
       " {'_id': ObjectId('52cdef7d4bab8bd675298e20'),\n",
       "  'name': 'Astaro',\n",
       "  'founded_year': 2000,\n",
       "  'acquisition': {'acquired_year': 2011}},\n",
       " {'_id': ObjectId('52cdef7d4bab8bd6752995f0'),\n",
       "  'name': 'Axis',\n",
       "  'founded_year': 2000,\n",
       "  'acquisition': {'acquired_year': 2013}},\n",
       " {'_id': ObjectId('52cdef7d4bab8bd67529997a'),\n",
       "  'name': 'Axis',\n",
       "  'founded_year': 2000,\n",
       "  'acquisition': {'acquired_year': 2013}},\n",
       " {'_id': ObjectId('52cdef7d4bab8bd675299f6b'),\n",
       "  'name': 'ExactTarget',\n",
       "  'founded_year': 2000,\n",
       "  'acquisition': {'acquired_year': 2013}},\n",
       " {'_id': ObjectId('52cdef7d4bab8bd67529a014'),\n",
       "  'name': 'AskMe Corp',\n",
       "  'founded_year': 2000,\n",
       "  'acquisition': {'acquired_year': 2011}},\n",
       " {'_id': ObjectId('52cdef7e4bab8bd67529a386'),\n",
       "  'name': 'SiteBrand',\n",
       "  'founded_year': 2000,\n",
       "  'acquisition': {'acquired_year': 2011}},\n",
       " {'_id': ObjectId('52cdef7e4bab8bd67529a6ba'),\n",
       "  'name': 'Rainbow Partners',\n",
       "  'founded_year': 2000,\n",
       "  'acquisition': {'acquired_year': 2012}},\n",
       " {'_id': ObjectId('52cdef7e4bab8bd67529a9f7'),\n",
       "  'name': 'Crossbeam Systems',\n",
       "  'founded_year': 2000,\n",
       "  'acquisition': {'acquired_year': 2012}},\n",
       " {'_id': ObjectId('52cdef7e4bab8bd67529ac02'),\n",
       "  'name': 'BroadLight',\n",
       "  'founded_year': 2000,\n",
       "  'acquisition': {'acquired_year': 2012}},\n",
       " {'_id': ObjectId('52cdef7e4bab8bd67529ae12'),\n",
       "  'name': 'Nexsan',\n",
       "  'founded_year': 2000,\n",
       "  'acquisition': {'acquired_year': 2013}},\n",
       " {'_id': ObjectId('52cdef7e4bab8bd67529ae57'),\n",
       "  'name': 'Echopass Corporation',\n",
       "  'founded_year': 2000,\n",
       "  'acquisition': {'acquired_year': 2013}},\n",
       " {'_id': ObjectId('52cdef7e4bab8bd67529aecf'),\n",
       "  'name': 'Xelerated',\n",
       "  'founded_year': 2000,\n",
       "  'acquisition': {'acquired_year': 2012}},\n",
       " {'_id': ObjectId('52cdef7e4bab8bd67529b3cf'),\n",
       "  'name': 'Kiala',\n",
       "  'founded_year': 2000,\n",
       "  'acquisition': {'acquired_year': 2012}}]"
      ]
     },
     "execution_count": 106,
     "metadata": {},
     "output_type": "execute_result"
    }
   ],
   "source": [
    "# Your Code\n",
    "q19 = {'$and':[{'founded_year':{\"$gte\":2000}},{'founded_year':{\"$lte\":2010}},{'acquisition.acquired_year':{\"$gte\":2011}}]}\n",
    "ye_ac = db.companies.find(q19,projection={'name','founded_year','acquisition.acquired_year'}).sort('founded_year',1)\n",
    "list(ye_ac.limit(20))"
   ]
  },
  {
   "cell_type": "markdown",
   "metadata": {},
   "source": [
    "### 20. All the companies that have been 'deadpooled' after the third year."
   ]
  },
  {
   "cell_type": "code",
   "execution_count": 116,
   "metadata": {},
   "outputs": [
    {
     "data": {
      "text/html": [
       "<div>\n",
       "<style scoped>\n",
       "    .dataframe tbody tr th:only-of-type {\n",
       "        vertical-align: middle;\n",
       "    }\n",
       "\n",
       "    .dataframe tbody tr th {\n",
       "        vertical-align: top;\n",
       "    }\n",
       "\n",
       "    .dataframe thead th {\n",
       "        text-align: right;\n",
       "    }\n",
       "</style>\n",
       "<table border=\"1\" class=\"dataframe\">\n",
       "  <thead>\n",
       "    <tr style=\"text-align: right;\">\n",
       "      <th></th>\n",
       "      <th>_id</th>\n",
       "      <th>name</th>\n",
       "      <th>founded_year</th>\n",
       "      <th>deadpooled_year</th>\n",
       "    </tr>\n",
       "  </thead>\n",
       "  <tbody>\n",
       "    <tr>\n",
       "      <th>0</th>\n",
       "      <td>52cdef7e4bab8bd67529bab3</td>\n",
       "      <td>Nakaya Microdevices</td>\n",
       "      <td>1970</td>\n",
       "      <td>2010</td>\n",
       "    </tr>\n",
       "    <tr>\n",
       "      <th>1</th>\n",
       "      <td>52cdef7c4bab8bd6752984ca</td>\n",
       "      <td>Everex</td>\n",
       "      <td>1983</td>\n",
       "      <td>2009</td>\n",
       "    </tr>\n",
       "    <tr>\n",
       "      <th>2</th>\n",
       "      <td>52cdef7c4bab8bd675297f92</td>\n",
       "      <td>Trutap</td>\n",
       "      <td>1989</td>\n",
       "      <td>2009</td>\n",
       "    </tr>\n",
       "    <tr>\n",
       "      <th>3</th>\n",
       "      <td>52cdef7c4bab8bd6752981c2</td>\n",
       "      <td>bluepulse</td>\n",
       "      <td>1990</td>\n",
       "      <td>2010</td>\n",
       "    </tr>\n",
       "    <tr>\n",
       "      <th>4</th>\n",
       "      <td>52cdef7c4bab8bd675298871</td>\n",
       "      <td>BubbleShare</td>\n",
       "      <td>1991</td>\n",
       "      <td>2009</td>\n",
       "    </tr>\n",
       "  </tbody>\n",
       "</table>\n",
       "</div>"
      ],
      "text/plain": [
       "                        _id                 name  founded_year  \\\n",
       "0  52cdef7e4bab8bd67529bab3  Nakaya Microdevices          1970   \n",
       "1  52cdef7c4bab8bd6752984ca               Everex          1983   \n",
       "2  52cdef7c4bab8bd675297f92               Trutap          1989   \n",
       "3  52cdef7c4bab8bd6752981c2            bluepulse          1990   \n",
       "4  52cdef7c4bab8bd675298871          BubbleShare          1991   \n",
       "\n",
       "   deadpooled_year  \n",
       "0             2010  \n",
       "1             2009  \n",
       "2             2009  \n",
       "3             2010  \n",
       "4             2009  "
      ]
     },
     "execution_count": 116,
     "metadata": {},
     "output_type": "execute_result"
    }
   ],
   "source": [
    "# Your Code\n",
    "q20 = {'$and':[{'founded_year':{\"$gte\":1000}},{'deadpooled_year':{\"$gte\":1000}}]}\n",
    "deadpooled = db.companies.find(q20,projection={'name','founded_year','deadpooled_year'}).sort('founded_year',1)\n",
    "df = pd.DataFrame(deadpooled)\n",
    "\n",
    "df.head()"
   ]
  },
  {
   "cell_type": "code",
   "execution_count": 117,
   "metadata": {},
   "outputs": [],
   "source": [
    "#Eliminamos la columna ID:\n",
    "df = df.drop(columns=\"_id\")"
   ]
  },
  {
   "cell_type": "code",
   "execution_count": 118,
   "metadata": {},
   "outputs": [
    {
     "data": {
      "text/html": [
       "<div>\n",
       "<style scoped>\n",
       "    .dataframe tbody tr th:only-of-type {\n",
       "        vertical-align: middle;\n",
       "    }\n",
       "\n",
       "    .dataframe tbody tr th {\n",
       "        vertical-align: top;\n",
       "    }\n",
       "\n",
       "    .dataframe thead th {\n",
       "        text-align: right;\n",
       "    }\n",
       "</style>\n",
       "<table border=\"1\" class=\"dataframe\">\n",
       "  <thead>\n",
       "    <tr style=\"text-align: right;\">\n",
       "      <th></th>\n",
       "      <th>name</th>\n",
       "      <th>founded_year</th>\n",
       "      <th>deadpooled_year</th>\n",
       "    </tr>\n",
       "  </thead>\n",
       "  <tbody>\n",
       "    <tr>\n",
       "      <th>0</th>\n",
       "      <td>Nakaya Microdevices</td>\n",
       "      <td>1970</td>\n",
       "      <td>2010</td>\n",
       "    </tr>\n",
       "    <tr>\n",
       "      <th>1</th>\n",
       "      <td>Everex</td>\n",
       "      <td>1983</td>\n",
       "      <td>2009</td>\n",
       "    </tr>\n",
       "    <tr>\n",
       "      <th>2</th>\n",
       "      <td>Trutap</td>\n",
       "      <td>1989</td>\n",
       "      <td>2009</td>\n",
       "    </tr>\n",
       "    <tr>\n",
       "      <th>3</th>\n",
       "      <td>bluepulse</td>\n",
       "      <td>1990</td>\n",
       "      <td>2010</td>\n",
       "    </tr>\n",
       "    <tr>\n",
       "      <th>4</th>\n",
       "      <td>BubbleShare</td>\n",
       "      <td>1991</td>\n",
       "      <td>2009</td>\n",
       "    </tr>\n",
       "  </tbody>\n",
       "</table>\n",
       "</div>"
      ],
      "text/plain": [
       "                  name  founded_year  deadpooled_year\n",
       "0  Nakaya Microdevices          1970             2010\n",
       "1               Everex          1983             2009\n",
       "2               Trutap          1989             2009\n",
       "3            bluepulse          1990             2010\n",
       "4          BubbleShare          1991             2009"
      ]
     },
     "execution_count": 118,
     "metadata": {},
     "output_type": "execute_result"
    }
   ],
   "source": [
    "df.head()"
   ]
  },
  {
   "cell_type": "code",
   "execution_count": 119,
   "metadata": {},
   "outputs": [
    {
     "data": {
      "text/plain": [
       "name               object\n",
       "founded_year        int64\n",
       "deadpooled_year     int64\n",
       "dtype: object"
      ]
     },
     "execution_count": 119,
     "metadata": {},
     "output_type": "execute_result"
    }
   ],
   "source": [
    "df.dtypes"
   ]
  },
  {
   "cell_type": "code",
   "execution_count": 120,
   "metadata": {},
   "outputs": [],
   "source": [
    "df[\"dif\"]= df.deadpooled_year - df.founded_year"
   ]
  },
  {
   "cell_type": "code",
   "execution_count": 121,
   "metadata": {},
   "outputs": [
    {
     "data": {
      "text/html": [
       "<div>\n",
       "<style scoped>\n",
       "    .dataframe tbody tr th:only-of-type {\n",
       "        vertical-align: middle;\n",
       "    }\n",
       "\n",
       "    .dataframe tbody tr th {\n",
       "        vertical-align: top;\n",
       "    }\n",
       "\n",
       "    .dataframe thead th {\n",
       "        text-align: right;\n",
       "    }\n",
       "</style>\n",
       "<table border=\"1\" class=\"dataframe\">\n",
       "  <thead>\n",
       "    <tr style=\"text-align: right;\">\n",
       "      <th></th>\n",
       "      <th>name</th>\n",
       "      <th>founded_year</th>\n",
       "      <th>deadpooled_year</th>\n",
       "      <th>dif</th>\n",
       "    </tr>\n",
       "  </thead>\n",
       "  <tbody>\n",
       "    <tr>\n",
       "      <th>0</th>\n",
       "      <td>Nakaya Microdevices</td>\n",
       "      <td>1970</td>\n",
       "      <td>2010</td>\n",
       "      <td>40</td>\n",
       "    </tr>\n",
       "    <tr>\n",
       "      <th>1</th>\n",
       "      <td>Everex</td>\n",
       "      <td>1983</td>\n",
       "      <td>2009</td>\n",
       "      <td>26</td>\n",
       "    </tr>\n",
       "    <tr>\n",
       "      <th>2</th>\n",
       "      <td>Trutap</td>\n",
       "      <td>1989</td>\n",
       "      <td>2009</td>\n",
       "      <td>20</td>\n",
       "    </tr>\n",
       "    <tr>\n",
       "      <th>3</th>\n",
       "      <td>bluepulse</td>\n",
       "      <td>1990</td>\n",
       "      <td>2010</td>\n",
       "      <td>20</td>\n",
       "    </tr>\n",
       "    <tr>\n",
       "      <th>4</th>\n",
       "      <td>BubbleShare</td>\n",
       "      <td>1991</td>\n",
       "      <td>2009</td>\n",
       "      <td>18</td>\n",
       "    </tr>\n",
       "  </tbody>\n",
       "</table>\n",
       "</div>"
      ],
      "text/plain": [
       "                  name  founded_year  deadpooled_year  dif\n",
       "0  Nakaya Microdevices          1970             2010   40\n",
       "1               Everex          1983             2009   26\n",
       "2               Trutap          1989             2009   20\n",
       "3            bluepulse          1990             2010   20\n",
       "4          BubbleShare          1991             2009   18"
      ]
     },
     "execution_count": 121,
     "metadata": {},
     "output_type": "execute_result"
    }
   ],
   "source": [
    "df.head()"
   ]
  },
  {
   "cell_type": "code",
   "execution_count": 129,
   "metadata": {},
   "outputs": [
    {
     "data": {
      "text/html": [
       "<div>\n",
       "<style scoped>\n",
       "    .dataframe tbody tr th:only-of-type {\n",
       "        vertical-align: middle;\n",
       "    }\n",
       "\n",
       "    .dataframe tbody tr th {\n",
       "        vertical-align: top;\n",
       "    }\n",
       "\n",
       "    .dataframe thead th {\n",
       "        text-align: right;\n",
       "    }\n",
       "</style>\n",
       "<table border=\"1\" class=\"dataframe\">\n",
       "  <thead>\n",
       "    <tr style=\"text-align: right;\">\n",
       "      <th></th>\n",
       "      <th>name</th>\n",
       "      <th>founded_year</th>\n",
       "      <th>deadpooled_year</th>\n",
       "      <th>dif</th>\n",
       "    </tr>\n",
       "  </thead>\n",
       "  <tbody>\n",
       "    <tr>\n",
       "      <th>0</th>\n",
       "      <td>Nakaya Microdevices</td>\n",
       "      <td>1970</td>\n",
       "      <td>2010</td>\n",
       "      <td>40</td>\n",
       "    </tr>\n",
       "    <tr>\n",
       "      <th>1</th>\n",
       "      <td>Everex</td>\n",
       "      <td>1983</td>\n",
       "      <td>2009</td>\n",
       "      <td>26</td>\n",
       "    </tr>\n",
       "    <tr>\n",
       "      <th>2</th>\n",
       "      <td>Trutap</td>\n",
       "      <td>1989</td>\n",
       "      <td>2009</td>\n",
       "      <td>20</td>\n",
       "    </tr>\n",
       "    <tr>\n",
       "      <th>3</th>\n",
       "      <td>bluepulse</td>\n",
       "      <td>1990</td>\n",
       "      <td>2010</td>\n",
       "      <td>20</td>\n",
       "    </tr>\n",
       "    <tr>\n",
       "      <th>4</th>\n",
       "      <td>BubbleShare</td>\n",
       "      <td>1991</td>\n",
       "      <td>2009</td>\n",
       "      <td>18</td>\n",
       "    </tr>\n",
       "  </tbody>\n",
       "</table>\n",
       "</div>"
      ],
      "text/plain": [
       "                  name  founded_year  deadpooled_year  dif\n",
       "0  Nakaya Microdevices          1970             2010   40\n",
       "1               Everex          1983             2009   26\n",
       "2               Trutap          1989             2009   20\n",
       "3            bluepulse          1990             2010   20\n",
       "4          BubbleShare          1991             2009   18"
      ]
     },
     "execution_count": 129,
     "metadata": {},
     "output_type": "execute_result"
    }
   ],
   "source": [
    "df_deadpooled = df[df['dif'] > 3]\n",
    "df_deadpooled.head()"
   ]
  },
  {
   "cell_type": "code",
   "execution_count": 147,
   "metadata": {},
   "outputs": [
    {
     "data": {
      "image/png": "[encoded data removed]",
      "text/plain": [
       "<Figure size 432x288 with 1 Axes>"
      ]
     },
     "metadata": {
      "needs_background": "light"
     },
     "output_type": "display_data"
    }
   ],
   "source": [
    "#Número de empresas que cerraron tras n años de abrir:\n",
    "#127 empresas cerraron tras 4 años de ser fundada\n",
    "#84 empresas cerraron tras 5 años de ser fundada....\n",
    "df_deadpooled.groupby(\"dif\").count()['name'].plot.bar(x=\"\");"
   ]
  },
  {
   "cell_type": "code",
   "execution_count": 149,
   "metadata": {},
   "outputs": [
    {
     "data": {
      "image/png": "[encoded data removed]",
      "text/plain": [
       "<Figure size 432x288 with 1 Axes>"
      ]
     },
     "metadata": {
      "needs_background": "light"
     },
     "output_type": "display_data"
    }
   ],
   "source": [
    "#Si analizamos en su conjunto: --> se filtra las >=0 porque hay algunos valores erroneos negativos.\n",
    "df_0 = df[df[\"dif\"] >= 0]\n",
    "df_0.groupby(\"dif\").count()['name'].plot.bar();"
   ]
  }
 ],
 "metadata": {
  "kernelspec": {
   "display_name": "Python 3",
   "language": "python",
   "name": "python3"
  },
  "language_info": {
   "codemirror_mode": {
    "name": "ipython",
    "version": 3
   },
   "file_extension": ".py",
   "mimetype": "text/x-python",
   "name": "python",
   "nbconvert_exporter": "python",
   "pygments_lexer": "ipython3",
   "version": "3.7.6"
  }
 },
 "nbformat": 4,
 "nbformat_minor": 2
}
