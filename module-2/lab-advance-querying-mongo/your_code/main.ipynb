{
 "cells": [
  {
   "cell_type": "markdown",
   "metadata": {},
   "source": [
    "# Advanced Querying Mongo"
   ]
  },
  {
   "cell_type": "markdown",
   "metadata": {},
   "source": [
    "Importing libraries and setting up connection"
   ]
  },
  {
   "cell_type": "code",
   "execution_count": 1,
   "metadata": {},
   "outputs": [],
   "source": [
    "from pymongo import MongoClient\n",
    "import re\n",
    "from pandas.io.json import json_normalize"
   ]
  },
  {
   "cell_type": "code",
   "execution_count": 2,
   "metadata": {},
   "outputs": [
    {
     "name": "stdout",
     "output_type": "stream",
     "text": [
      "companies\n"
     ]
    },
    {
     "data": {
      "text/plain": [
       "[{'name': 'companies',\n",
       "  'type': 'collection',\n",
       "  'options': {},\n",
       "  'info': {'readOnly': False,\n",
       "   'uuid': UUID('7294c8df-8dae-40a1-b347-d171744188f7')},\n",
       "  'idIndex': {'v': 2,\n",
       "   'key': {'_id': 1},\n",
       "   'name': '_id_',\n",
       "   'ns': 'companies.companies'}}]"
      ]
     },
     "execution_count": 2,
     "metadata": {},
     "output_type": "execute_result"
    }
   ],
   "source": [
    "client = MongoClient(\"mongodb://localhost/companies\")\n",
    "db = client.get_database()\n",
    "\n",
    "for c in db.list_collections():\n",
    "    print(c[\"name\"])\n",
    "    \n",
    "list(db.list_collections())"
   ]
  },
  {
   "cell_type": "markdown",
   "metadata": {},
   "source": [
    "### 1. All the companies whose name match 'Babelgum'. Retrieve only their `name` field."
   ]
  },
  {
   "cell_type": "code",
   "execution_count": 47,
   "metadata": {},
   "outputs": [
    {
     "data": {
      "text/plain": [
       "[{'_id': ObjectId('52cdef7c4bab8bd675297da0'), 'name': 'Babelgum'}]"
      ]
     },
     "execution_count": 47,
     "metadata": {},
     "output_type": "execute_result"
    }
   ],
   "source": [
    "q1 = {'name':'Babelgum'}\n",
    "list(db[\"companies\"].find(q1,projection={'name':True}))"
   ]
  },
  {
   "cell_type": "markdown",
   "metadata": {},
   "source": [
    "### 2. All the companies that have more than 5000 employees. Limit the search to 20 companies and sort them by **number of employees**."
   ]
  },
  {
   "cell_type": "code",
   "execution_count": 72,
   "metadata": {},
   "outputs": [
    {
     "data": {
      "text/plain": [
       "[{'_id': ObjectId('52cdef7d4bab8bd67529941a'),\n",
       "  'name': 'Siemens',\n",
       "  'number_of_employees': 405000},\n",
       " {'_id': ObjectId('52cdef7c4bab8bd67529856a'),\n",
       "  'name': 'IBM',\n",
       "  'number_of_employees': 388000},\n",
       " {'_id': ObjectId('52cdef7d4bab8bd675299d33'),\n",
       "  'name': 'Toyota',\n",
       "  'number_of_employees': 320000},\n",
       " {'_id': ObjectId('52cdef7c4bab8bd675297e89'),\n",
       "  'name': 'PayPal',\n",
       "  'number_of_employees': 300000},\n",
       " {'_id': ObjectId('52cdef7e4bab8bd67529b0fe'),\n",
       "  'name': 'Nippon Telegraph and Telephone Corporation',\n",
       "  'number_of_employees': 227000},\n",
       " {'_id': ObjectId('52cdef7d4bab8bd675298aa4'),\n",
       "  'name': 'Samsung Electronics',\n",
       "  'number_of_employees': 221726},\n",
       " {'_id': ObjectId('52cdef7d4bab8bd675298b99'),\n",
       "  'name': 'Accenture',\n",
       "  'number_of_employees': 205000},\n",
       " {'_id': ObjectId('52cdef7e4bab8bd67529a657'),\n",
       "  'name': 'Tata Consultancy Services',\n",
       "  'number_of_employees': 200300},\n",
       " {'_id': ObjectId('52cdef7e4bab8bd67529aa51'),\n",
       "  'name': 'Flextronics International',\n",
       "  'number_of_employees': 200000},\n",
       " {'_id': ObjectId('52cdef7d4bab8bd675299156'),\n",
       "  'name': 'Safeway',\n",
       "  'number_of_employees': 186000},\n",
       " {'_id': ObjectId('52cdef7c4bab8bd675297e6f'),\n",
       "  'name': 'Sony',\n",
       "  'number_of_employees': 180500},\n",
       " {'_id': ObjectId('52cdef7c4bab8bd675298517'),\n",
       "  'name': 'LG',\n",
       "  'number_of_employees': 177000},\n",
       " {'_id': ObjectId('52cdef7d4bab8bd675299d31'),\n",
       "  'name': 'Ford',\n",
       "  'number_of_employees': 171000},\n",
       " {'_id': ObjectId('52cdef7d4bab8bd675298b28'),\n",
       "  'name': 'Boeing',\n",
       "  'number_of_employees': 160000},\n",
       " {'_id': ObjectId('52cdef7e4bab8bd67529bb5c'),\n",
       "  'name': 'Digital Equipment Corporation',\n",
       "  'number_of_employees': 140000},\n",
       " {'_id': ObjectId('52cdef7c4bab8bd675297fc2'),\n",
       "  'name': 'Nokia',\n",
       "  'number_of_employees': 125000},\n",
       " {'_id': ObjectId('52cdef7d4bab8bd675299839'),\n",
       "  'name': 'MItsubishi Electric',\n",
       "  'number_of_employees': 107000},\n",
       " {'_id': ObjectId('52cdef7d4bab8bd675299bc3'),\n",
       "  'name': 'MItsubishi Electric',\n",
       "  'number_of_employees': 107000},\n",
       " {'_id': ObjectId('52cdef7c4bab8bd6752987ad'),\n",
       "  'name': 'Comcast',\n",
       "  'number_of_employees': 100000},\n",
       " {'_id': ObjectId('52cdef7d4bab8bd675298d67'),\n",
       "  'name': 'Bertelsmann',\n",
       "  'number_of_employees': 100000}]"
      ]
     },
     "execution_count": 72,
     "metadata": {},
     "output_type": "execute_result"
    }
   ],
   "source": [
    "# Your Code\n",
    "q2 = {'number_of_employees':{'$gte':5000}}\n",
    "#Para hacer sort con 1 sólo valor, se utiliza la tupla con el -1 para hacerlo descendente.\n",
    "top_emp = db.companies.find(q2,projection={'name','number_of_employees'}).sort('number_of_employees', -1).limit(20)\n",
    "list(top_emp)"
   ]
  },
  {
   "cell_type": "markdown",
   "metadata": {},
   "source": [
    "### 3. All the companies founded between 2000 and 2005, both years included. Retrieve only the `name` and `founded_year` fields."
   ]
  },
  {
   "cell_type": "code",
   "execution_count": 78,
   "metadata": {},
   "outputs": [
    {
     "data": {
      "text/plain": [
       "[{'_id': ObjectId('52cdef7c4bab8bd675297dd5'),\n",
       "  'name': 'AllofMP3',\n",
       "  'founded_year': 2000},\n",
       " {'_id': ObjectId('52cdef7c4bab8bd675297dd9'),\n",
       "  'name': 'Steorn',\n",
       "  'founded_year': 2000},\n",
       " {'_id': ObjectId('52cdef7c4bab8bd675297ddb'),\n",
       "  'name': 'MeeVee',\n",
       "  'founded_year': 2000},\n",
       " {'_id': ObjectId('52cdef7c4bab8bd675297e38'),\n",
       "  'name': 'PhotoBox',\n",
       "  'founded_year': 2000},\n",
       " {'_id': ObjectId('52cdef7c4bab8bd675297e73'),\n",
       "  'name': 'Boonex',\n",
       "  'founded_year': 2000},\n",
       " {'_id': ObjectId('52cdef7c4bab8bd675297ea9'),\n",
       "  'name': 'Sulake',\n",
       "  'founded_year': 2000},\n",
       " {'_id': ObjectId('52cdef7c4bab8bd675297eb6'),\n",
       "  'name': 'SelectMinds',\n",
       "  'founded_year': 2000},\n",
       " {'_id': ObjectId('52cdef7c4bab8bd675297ef2'),\n",
       "  'name': 'ContextWeb',\n",
       "  'founded_year': 2000},\n",
       " {'_id': ObjectId('52cdef7c4bab8bd675297efd'),\n",
       "  'name': 'ZoomInfo',\n",
       "  'founded_year': 2000},\n",
       " {'_id': ObjectId('52cdef7c4bab8bd675297f12'),\n",
       "  'name': 'eHarmony',\n",
       "  'founded_year': 2000}]"
      ]
     },
     "execution_count": 78,
     "metadata": {},
     "output_type": "execute_result"
    }
   ],
   "source": [
    "# Your Code\n",
    "q3 = {'$and':[{'founded_year':{\"$gte\":2000}},{'founded_year':{\"$lte\":2005}}]}\n",
    "found_year = db.companies.find(q3,projection={'name','founded_year'}).sort('founded_year',1)\n",
    "list(found_year.limit(10))"
   ]
  },
  {
   "cell_type": "markdown",
   "metadata": {},
   "source": [
    "### 4. All the companies that had a Valuation Amount of more than 100.000.000 and have been founded before 2010. Retrieve only the `name` and `ipo` fields."
   ]
  },
  {
   "cell_type": "code",
   "execution_count": 82,
   "metadata": {},
   "outputs": [
    {
     "data": {
      "text/plain": [
       "[{'_id': ObjectId('52cdef7c4bab8bd675297f15'),\n",
       "  'name': 'Nielsen',\n",
       "  'ipo': {'valuation_amount': 1600000000}},\n",
       " {'_id': ObjectId('52cdef7e4bab8bd67529b996'),\n",
       "  'name': 'Western Digital',\n",
       "  'ipo': {'valuation_amount': 9430000000}},\n",
       " {'_id': ObjectId('52cdef7c4bab8bd67529859a'),\n",
       "  'name': 'BMC Software',\n",
       "  'ipo': {'valuation_amount': 6000000000}},\n",
       " {'_id': ObjectId('52cdef7c4bab8bd6752987fe'),\n",
       "  'name': 'Geeknet',\n",
       "  'ipo': {'valuation_amount': 134000000}},\n",
       " {'_id': ObjectId('52cdef7d4bab8bd6752992c1'),\n",
       "  'name': 'QlikTech',\n",
       "  'ipo': {'valuation_amount': 1000000000}},\n",
       " {'_id': ObjectId('52cdef7c4bab8bd675297e7a'),\n",
       "  'name': 'Amazon',\n",
       "  'ipo': {'valuation_amount': 100000000000}},\n",
       " {'_id': ObjectId('52cdef7c4bab8bd675297f36'),\n",
       "  'name': 'OpenTable',\n",
       "  'ipo': {'valuation_amount': 1050000000}},\n",
       " {'_id': ObjectId('52cdef7c4bab8bd675298527'),\n",
       "  'name': 'Rackspace',\n",
       "  'ipo': {'valuation_amount': 5440000000}},\n",
       " {'_id': ObjectId('52cdef7c4bab8bd675298674'),\n",
       "  'name': 'Tencent',\n",
       "  'ipo': {'valuation_amount': 11000000000}},\n",
       " {'_id': ObjectId('52cdef7c4bab8bd675298112'),\n",
       "  'name': 'Shutterfly',\n",
       "  'ipo': {'valuation_amount': 350000000}},\n",
       " {'_id': ObjectId('52cdef7c4bab8bd67529823b'),\n",
       "  'name': 'Salesforce',\n",
       "  'ipo': {'valuation_amount': 110000000}},\n",
       " {'_id': ObjectId('52cdef7c4bab8bd6752984e3'),\n",
       "  'name': 'QuinStreet',\n",
       "  'ipo': {'valuation_amount': 140000000}},\n",
       " {'_id': ObjectId('52cdef7c4bab8bd67529865c'),\n",
       "  'name': 'Infoblox',\n",
       "  'ipo': {'valuation_amount': 824000000}},\n",
       " {'_id': ObjectId('52cdef7c4bab8bd675298760'),\n",
       "  'name': 'Baidu',\n",
       "  'ipo': {'valuation_amount': 4000000000}},\n",
       " {'_id': ObjectId('52cdef7d4bab8bd6752989a0'),\n",
       "  'name': 'Opsware',\n",
       "  'ipo': {'valuation_amount': 450000000}},\n",
       " {'_id': ObjectId('52cdef7d4bab8bd6752989f2'),\n",
       "  'name': 'Telenav',\n",
       "  'ipo': {'valuation_amount': 337000000}},\n",
       " {'_id': ObjectId('52cdef7d4bab8bd675299103'),\n",
       "  'name': 'Mixi',\n",
       "  'ipo': {'valuation_amount': 970000000}},\n",
       " {'_id': ObjectId('52cdef7e4bab8bd67529a7db'),\n",
       "  'name': 'SolarWinds',\n",
       "  'ipo': {'valuation_amount': 803000000}},\n",
       " {'_id': ObjectId('52cdef7e4bab8bd67529ad05'),\n",
       "  'name': 'DemandTec',\n",
       "  'ipo': {'valuation_amount': 245000000}},\n",
       " {'_id': ObjectId('52cdef7e4bab8bd67529b3bd'),\n",
       "  'name': 'Cornerstone OnDemand',\n",
       "  'ipo': {'valuation_amount': 900000000}}]"
      ]
     },
     "execution_count": 82,
     "metadata": {},
     "output_type": "execute_result"
    }
   ],
   "source": [
    "# Your Code\n",
    "q4 = {'$and':[{'ipo.valuation_amount':{'$gte':100000000}},{'founded_year':{'$lte':2010}}]}\n",
    "found_year = db.companies.find(q4,projection={'name','ipo.valuation_amount'}).sort('founded_year',1)\n",
    "list(found_year.limit(20))"
   ]
  },
  {
   "cell_type": "markdown",
   "metadata": {},
   "source": [
    "### 5. All the companies that have less than 1000 employees and have been founded before 2005. Order them by the number of employees and limit the search to 10 companies."
   ]
  },
  {
   "cell_type": "code",
   "execution_count": null,
   "metadata": {},
   "outputs": [],
   "source": [
    "# Your Code\n",
    "q5 = {'$and':[{'ipo.valuation_amount':{'$gte':100000000}},{'founded_year':{'$lte':2010}}]}\n",
    "found_year = db.companies.find(q5,projection={'name','ipo.valuation_amount'}).sort('founded_year',1)\n",
    "list(found_year.limit(20))"
   ]
  },
  {
   "cell_type": "markdown",
   "metadata": {},
   "source": [
    "### 6. All the companies that don't include the `partners` field."
   ]
  },
  {
   "cell_type": "code",
   "execution_count": null,
   "metadata": {},
   "outputs": [],
   "source": [
    "# Your Code"
   ]
  },
  {
   "cell_type": "markdown",
   "metadata": {},
   "source": [
    "### 7. All the companies that have a null type of value on the `category_code` field."
   ]
  },
  {
   "cell_type": "code",
   "execution_count": null,
   "metadata": {},
   "outputs": [],
   "source": [
    "# Your Code"
   ]
  },
  {
   "cell_type": "markdown",
   "metadata": {},
   "source": [
    "### 8. All the companies that have at least 100 employees but less than 1000. Retrieve only the `name` and `number of employees` fields."
   ]
  },
  {
   "cell_type": "code",
   "execution_count": null,
   "metadata": {},
   "outputs": [],
   "source": [
    "# Your Code"
   ]
  },
  {
   "cell_type": "markdown",
   "metadata": {},
   "source": [
    "### 9. Order all the companies by their IPO price in a descending order."
   ]
  },
  {
   "cell_type": "code",
   "execution_count": null,
   "metadata": {},
   "outputs": [],
   "source": [
    "# Your Code"
   ]
  },
  {
   "cell_type": "markdown",
   "metadata": {},
   "source": [
    "### 10. Retrieve the 10 companies with more employees, order by the `number of employees`"
   ]
  },
  {
   "cell_type": "code",
   "execution_count": null,
   "metadata": {},
   "outputs": [],
   "source": [
    "# Your Code"
   ]
  },
  {
   "cell_type": "markdown",
   "metadata": {},
   "source": [
    "### 11. All the companies founded on the second semester of the year. Limit your search to 1000 companies."
   ]
  },
  {
   "cell_type": "code",
   "execution_count": null,
   "metadata": {},
   "outputs": [],
   "source": [
    "# Your Code"
   ]
  },
  {
   "cell_type": "markdown",
   "metadata": {},
   "source": [
    "### 12. All the companies founded before 2000 that have an acquisition amount of more than 10.000.00"
   ]
  },
  {
   "cell_type": "code",
   "execution_count": null,
   "metadata": {},
   "outputs": [],
   "source": [
    "# Your Code"
   ]
  },
  {
   "cell_type": "markdown",
   "metadata": {},
   "source": [
    "### 13. All the companies that have been acquired after 2010, order by the acquisition amount, and retrieve only their `name` and `acquisition` field."
   ]
  },
  {
   "cell_type": "code",
   "execution_count": null,
   "metadata": {},
   "outputs": [],
   "source": [
    "# Your Code"
   ]
  },
  {
   "cell_type": "markdown",
   "metadata": {},
   "source": [
    "### 14. Order the companies by their `founded year`, retrieving only their `name` and `founded year`."
   ]
  },
  {
   "cell_type": "code",
   "execution_count": null,
   "metadata": {},
   "outputs": [],
   "source": [
    "# Your Code"
   ]
  },
  {
   "cell_type": "markdown",
   "metadata": {},
   "source": [
    "### 15. All the companies that have been founded on the first seven days of the month, including the seventh. Sort them by their `acquisition price` in a descending order. Limit the search to 10 documents."
   ]
  },
  {
   "cell_type": "code",
   "execution_count": null,
   "metadata": {},
   "outputs": [],
   "source": [
    "# Your Code"
   ]
  },
  {
   "cell_type": "markdown",
   "metadata": {},
   "source": [
    "### 16. All the companies on the 'web' `category` that have more than 4000 employees. Sort them by the amount of employees in ascending order."
   ]
  },
  {
   "cell_type": "code",
   "execution_count": null,
   "metadata": {},
   "outputs": [],
   "source": [
    "# Your Code"
   ]
  },
  {
   "cell_type": "markdown",
   "metadata": {},
   "source": [
    "### 17. All the companies whose acquisition amount is more than 10.000.000, and currency is 'EUR'."
   ]
  },
  {
   "cell_type": "code",
   "execution_count": null,
   "metadata": {},
   "outputs": [],
   "source": [
    "# Your Code"
   ]
  },
  {
   "cell_type": "markdown",
   "metadata": {},
   "source": [
    "### 18. All the companies that have been acquired on the first trimester of the year. Limit the search to 10 companies, and retrieve only their `name` and `acquisition` fields."
   ]
  },
  {
   "cell_type": "code",
   "execution_count": null,
   "metadata": {},
   "outputs": [],
   "source": [
    "# Your Code"
   ]
  },
  {
   "cell_type": "markdown",
   "metadata": {},
   "source": [
    "# Bonus\n",
    "### 19. All the companies that have been founded between 2000 and 2010, but have not been acquired before 2011."
   ]
  },
  {
   "cell_type": "code",
   "execution_count": null,
   "metadata": {},
   "outputs": [],
   "source": [
    "# Your Code"
   ]
  },
  {
   "cell_type": "markdown",
   "metadata": {},
   "source": [
    "### 20. All the companies that have been 'deadpooled' after the third year."
   ]
  },
  {
   "cell_type": "code",
   "execution_count": null,
   "metadata": {},
   "outputs": [],
   "source": [
    "# Your Code"
   ]
  }
 ],
 "metadata": {
  "kernelspec": {
   "display_name": "Python 3",
   "language": "python",
   "name": "python3"
  },
  "language_info": {
   "codemirror_mode": {
    "name": "ipython",
    "version": 3
   },
   "file_extension": ".py",
   "mimetype": "text/x-python",
   "name": "python",
   "nbconvert_exporter": "python",
   "pygments_lexer": "ipython3",
   "version": "3.7.6"
  }
 },
 "nbformat": 4,
 "nbformat_minor": 2
}
